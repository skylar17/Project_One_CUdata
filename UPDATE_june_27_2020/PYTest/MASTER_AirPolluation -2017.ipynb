{
 "cells": [
  {
   "cell_type": "markdown",
   "metadata": {
    "colab_type": "text",
    "id": "EOYo-tYOkrKw"
   },
   "source": [
    "#Dataset - March 25, 2020 to June 23, 2020 vs March 25, 2018 to June 23, 2018, First strict lockdown - March 25th, lockdown ended - May 3rd"
   ]
  },
  {
   "cell_type": "code",
   "execution_count": 1,
   "metadata": {
    "colab": {},
    "colab_type": "code",
    "id": "ucR_I3iNjSkI"
   },
   "outputs": [],
   "source": [
    "#Dependencies\n",
    "import pandas as pd\n",
    "import numpy as np\n",
    "import matplotlib.pyplot as plt\n",
    "import time\n",
    "import io\n",
    "import os\n",
    "import csv\n",
    "import requests\n",
    "import json"
   ]
  },
  {
   "cell_type": "code",
   "execution_count": 2,
   "metadata": {},
   "outputs": [],
   "source": [
    "base_url = 'https://api.openaq.org/v1/measurements?'"
   ]
  },
  {
   "cell_type": "code",
   "execution_count": 3,
   "metadata": {},
   "outputs": [],
   "source": [
    "# Delhi location center: Aya Nagar, Delhi - IMD\n",
    "# Delhi coordinates: 28.47,77.10\n",
    "\n",
    "# Mumbai location center: Chhatrapati Shivaji Intl. Airport (T2), Mumbai - MPCB\n",
    "# Mumbai coordinates: 19.10,72.83\n",
    "\n",
    "# Chennai location center: Velachery Res. Area, Chennai - CPCB\n",
    "# Chennai coordinates: 13.00,80.23\n",
    "\n",
    "# Patna location center: Govt. High School Shikarpur, Patna - BSPCB\n",
    "# Patna coordinates: 25.59,85.22\n",
    "\n",
    "#coordinates = ['28.56,77.17', '19.14,72.99', '12.99,80.19', '25.36,85.07']\n",
    "##end_time = '2017-06-22'\n",
    "#output = 'csv'\n",
    "\n",
    "#for coordinate in coordinates:\n",
    "    #target_url = (f'{base_url}date_from={start_time}&date_to={end_time}&format={output}&coordinates={coordinate}')\n",
    "    #df = pd.read_csv(target_url)\n",
    "    #df.to_csv(f\"{coordinate}_data.csv\")"
   ]
  },
  {
   "cell_type": "markdown",
   "metadata": {
    "colab_type": "text",
    "id": "L0FnMoKRQXBV"
   },
   "source": [
    "Read each individual city CSV "
   ]
  },
  {
   "cell_type": "code",
   "execution_count": 7,
   "metadata": {},
   "outputs": [
    {
     "ename": "SyntaxError",
     "evalue": "invalid character in identifier (<ipython-input-7-107b1ed9c1e1>, line 2)",
     "output_type": "error",
     "traceback": [
      "\u001b[1;36m  File \u001b[1;32m\"<ipython-input-7-107b1ed9c1e1>\"\u001b[1;36m, line \u001b[1;32m2\u001b[0m\n\u001b[1;33m    historical_in_csv = os.path.join(“2017-06-22.csv”)\u001b[0m\n\u001b[1;37m                                         ^\u001b[0m\n\u001b[1;31mSyntaxError\u001b[0m\u001b[1;31m:\u001b[0m invalid character in identifier\n"
     ]
    }
   ],
   "source": [
    "from os import path\n",
    "historical_in_csv = os.path.join(“2017-06-22.csv”)"
   ]
  },
  {
   "cell_type": "code",
   "execution_count": 5,
   "metadata": {},
   "outputs": [
    {
     "ename": "SyntaxError",
     "evalue": "invalid character in identifier (<ipython-input-5-62acb0116f65>, line 12)",
     "output_type": "error",
     "traceback": [
      "\u001b[1;36m  File \u001b[1;32m\"<ipython-input-5-62acb0116f65>\"\u001b[1;36m, line \u001b[1;32m12\u001b[0m\n\u001b[1;33m    csvreader = csv.reader(csvfile, delimiter=“,”)\u001b[0m\n\u001b[1;37m                                              ^\u001b[0m\n\u001b[1;31mSyntaxError\u001b[0m\u001b[1;31m:\u001b[0m invalid character in identifier\n"
     ]
    }
   ],
   "source": [
    "# Lists to store data\n",
    "location = []\n",
    "city = []\n",
    "utc = []\n",
    "parameter = []\n",
    "value = []\n",
    "unit = []\n",
    "latitude = []\n",
    "longitude = []\n",
    "\n",
    "with open(historical_in_csv) as csvfile:\n",
    "    csvreader = csv.reader(csvfile, delimiter=“,”)\n",
    "    csv_header = next(csvreader)\n",
    "    for row in csvreader:\n",
    "        if row[2] == “IN”:\n",
    "            location.append(row[0])\n",
    "            city.append(row[1])\n",
    "            utc.append(row[3])\n",
    "            parameter.append(row[5])\n",
    "            value.append(row[6])\n",
    "            unit.append(row[7])\n",
    "            latitude.append(row[8])\n",
    "            longitude.append(row[9])\n",
    "            \n",
    "            cleaned_historical = zip(location, city, utc, parameter, value, unit, latitude, longitude)\n"
   ]
  },
  {
   "cell_type": "code",
   "execution_count": 6,
   "metadata": {},
   "outputs": [
    {
     "ename": "SyntaxError",
     "evalue": "invalid character in identifier (<ipython-input-6-db3016369e31>, line 1)",
     "output_type": "error",
     "traceback": [
      "\u001b[1;36m  File \u001b[1;32m\"<ipython-input-6-db3016369e31>\"\u001b[1;36m, line \u001b[1;32m1\u001b[0m\n\u001b[1;33m    output_file = os.path.join(“cleaned_historical.csv”)\u001b[0m\n\u001b[1;37m                                                 ^\u001b[0m\n\u001b[1;31mSyntaxError\u001b[0m\u001b[1;31m:\u001b[0m invalid character in identifier\n"
     ]
    }
   ],
   "source": [
    "output_file = os.path.join(“cleaned_historical.csv”)\n",
    "with open(output_file, “w”) as datafile:\n",
    "    writer = csv.writer(datafile)\n",
    "    #writer.writerow(“Location”, “City”, “Date/Time”, “Parameter”, “Value”, “Unit”, “LAT”, “LON”)\n",
    "    writer.writerows(cleaned_historical)"
   ]
  },
  {
   "cell_type": "code",
   "execution_count": null,
   "metadata": {
    "colab": {
     "base_uri": "https://localhost:8080/",
     "height": 395
    },
    "colab_type": "code",
    "id": "Mb8ySGuzK0zq",
    "outputId": "38cfbfc0-0f2c-494f-b72e-d2ec7ca611df",
    "scrolled": true
   },
   "outputs": [],
   "source": [
    "chennai_df = pd.read_csv('Chennai_data_2017.csv')"
   ]
  },
  {
   "cell_type": "code",
   "execution_count": null,
   "metadata": {
    "colab": {
     "base_uri": "https://localhost:8080/",
     "height": 395
    },
    "colab_type": "code",
    "id": "mJGkFWmlPm3Z",
    "outputId": "6eeb8068-c32c-4171-b2d4-9e8595055dfc"
   },
   "outputs": [],
   "source": [
    "delhi_df = pd.read_csv('Delhi_data_2017.csv')"
   ]
  },
  {
   "cell_type": "code",
   "execution_count": null,
   "metadata": {
    "colab": {},
    "colab_type": "code",
    "id": "pp8c81NcPnak"
   },
   "outputs": [],
   "source": [
    "mumbai_df = pd.read_csv('Mumbai_data_2017.csv')"
   ]
  },
  {
   "cell_type": "code",
   "execution_count": null,
   "metadata": {
    "colab": {},
    "colab_type": "code",
    "id": "miQXaCpgPn8_"
   },
   "outputs": [],
   "source": [
    "patna_df = pd.read_csv('Patna_data_2017.csv')"
   ]
  },
  {
   "cell_type": "code",
   "execution_count": null,
   "metadata": {},
   "outputs": [],
   "source": [
    "dfs = [chennai_df, delhi_df, mumbai_df, patna_df]\n",
    "complete_city_df = pd.concat(dfs)\n",
    "complete_city_df.head()"
   ]
  },
  {
   "cell_type": "markdown",
   "metadata": {
    "colab_type": "text",
    "id": "NlBjmHXHQhPm"
   },
   "source": [
    "Test Dataframe with header "
   ]
  },
  {
   "cell_type": "code",
   "execution_count": null,
   "metadata": {
    "scrolled": true
   },
   "outputs": [],
   "source": [
    "# FOURcities_merged_df = FOURcities_mergedf.drop('country_x_x', 3)\n",
    "# FOURcities_merged_df.head()"
   ]
  },
  {
   "cell_type": "markdown",
   "metadata": {
    "colab_type": "text",
    "id": "DVi0Izii5gi3"
   },
   "source": [
    "Summary Table - \n",
    "**Cities:** Mumbai, Delhi, Chennai, Patna \n",
    "\n",
    "*   **Cities:** Mumbai, Delhi, Chennai, Patna \n",
    "*   **Statistical Distributions:**\n",
    "Mean, Median, Range, Stvd, SEM, IQR \n",
    "*   **Pollutants (values)**: PM25\n",
    "\n",
    "\n",
    "* **Cross Sectional Dates: *** PreCOVID 2017 - EX: 6/22/2017\n",
    "COVID Present - EX: 6/22/2020\n",
    "\n",
    "\n",
    "\n",
    "\n",
    "\n",
    "\n"
   ]
  },
  {
   "cell_type": "code",
   "execution_count": null,
   "metadata": {},
   "outputs": [],
   "source": [
    "df_pm25 = complete_city_df.loc[complete_city_df['parameter'] == 'pm25']\n",
    "df_pm25.head()"
   ]
  },
  {
   "cell_type": "code",
   "execution_count": null,
   "metadata": {
    "colab": {},
    "colab_type": "code",
    "id": "LcrISVpx5nbM",
    "scrolled": true
   },
   "outputs": [],
   "source": [
    " # If the data is in a dataframe, we use pandas to give quartile calculations pm25\n",
    "\n",
    "grouped_cities_pm25_df = df_pm25.groupby([\"city\"])\n",
    "# grouped_cities_df.head()\n",
    "\n",
    "\n",
    "avg_value = grouped_cities_pm25_df[\"value\"].mean()\n",
    "# avg_value.head()\n",
    "\n",
    "\n",
    "median_value = grouped_cities_pm25_df[\"value\"].median()\n",
    "# median_value.head()\n",
    "\n",
    "\n",
    "var_value = grouped_cities_pm25_df[\"value\"].var()\n",
    "# var_value.head()\n",
    "std_value = grouped_cities_pm25_df[\"value\"].std()\n",
    "# std_value.head()\n",
    "sem_value = grouped_cities_pm25_df[\"value\"].sem()\n",
    "# sem_value.head()\n",
    " \n",
    "citystats_pm25_df = pd.DataFrame({\"Mean\":avg_value, \"Median\":median_value,\"Standard Deviation\": std_value, \"Variance\":var_value, \"SEM\":sem_value})\n",
    "citystats_pm25_df\n"
   ]
  },
  {
   "cell_type": "code",
   "execution_count": null,
   "metadata": {},
   "outputs": [],
   "source": [
    "test = citystats_pm25_df[\"Mean\"]\n",
    "test.plot(kind= \"bar\", color=\"red\", legend=True, xlim=100, title=\"Average PM25 in each city\", ylim=0.5)\n",
    "\n",
    "\n",
    "#plt.xlabel(\"Drug Regimen\")\n",
    "#plt.xticks(rotation=90)\n",
    "#plt.ylabel(\"Number of Mice\")\n",
    "#plt.title(\"Mice per Timepoint / Treatment\")\n",
    "#plt.legend([\"Drug Regimen\"])\n",
    "# Set x and y limits\n",
    "#plt.xlim(-0.75)\n",
    "#plt.ylim(0.5)"
   ]
  },
  {
   "cell_type": "markdown",
   "metadata": {},
   "source": [
    "Calculate IQR for prep Box Plot "
   ]
  },
  {
   "cell_type": "code",
   "execution_count": null,
   "metadata": {},
   "outputs": [],
   "source": [
    "#  IQR Min, Median, Max\n",
    "# patna\n",
    "df_pm25_patna = patna_df.loc[patna_df['parameter'] == 'pm25']\n",
    "df_pm25_patna.head()\n",
    "\n",
    "quartiles = df_pm25_patna['value'].quantile([.25,.5,.75])\n",
    "lowerq = quartiles[0.25]\n",
    "upperq = quartiles[0.75]\n",
    "iqr = upperq-lowerq\n",
    "\n",
    "print(f\"The lower quartile of pm25 is: {lowerq}\")\n",
    "print(f\"The upper quartile of pm25 is: {upperq}\")\n",
    "print(f\"The interquartile range of pm25 is: {iqr}\")\n",
    "print(f\"The the median of pm25 is: {quartiles[0.5]} \")\n",
    "\n",
    "lower_bound = lowerq - (1.5*iqr)\n",
    "upper_bound = upperq + (1.5*iqr)\n",
    "print(f\"Values below {lower_bound} could be outliers.\")\n",
    "print(f\"Values above {upper_bound} could be outliers.\")\n",
    "\n",
    "\n",
    "\n",
    "# chennai \n",
    "df_pm25_chennai = chennai_df.loc[chennai_df['parameter'] == 'pm25']\n",
    "df_pm25_chennai.head()\n",
    "\n",
    "quartiles = df_pm25_chennai['value'].quantile([.25,.5,.75])\n",
    "lowerq = quartiles[0.25]\n",
    "upperq = quartiles[0.75]\n",
    "iqr = upperq-lowerq\n",
    "\n",
    "print(f\"The lower quartile of pm25 is: {lowerq}\")\n",
    "print(f\"The upper quartile of pm25 is: {upperq}\")\n",
    "print(f\"The interquartile range of pm25 is: {iqr}\")\n",
    "print(f\"The the median of pm25 is: {quartiles[0.5]} \")\n",
    "\n",
    "lower_bound = lowerq - (1.5*iqr)\n",
    "upper_bound = upperq + (1.5*iqr)\n",
    "print(f\"Values below {lower_bound} could be outliers.\")\n",
    "print(f\"Values above {upper_bound} could be outliers.\")\n",
    "\n",
    "#  mummbai \n",
    "df_pm25_mumbai = mumbai_df.loc[mumbai_df['parameter'] == 'pm25']\n",
    "df_pm25_mumbai.head()\n",
    "\n",
    "quartiles = df_pm25_mumbai['value'].quantile([.25,.5,.75])\n",
    "lowerq = quartiles[0.25]\n",
    "upperq = quartiles[0.75]\n",
    "iqr = upperq-lowerq\n",
    "\n",
    "print(f\"The lower quartile of pm25 is: {lowerq}\")\n",
    "print(f\"The upper quartile of pm25 is: {upperq}\")\n",
    "print(f\"The interquartile range of pm25 is: {iqr}\")\n",
    "print(f\"The the median of pm25 is: {quartiles[0.5]} \")\n",
    "\n",
    "lower_bound = lowerq - (1.5*iqr)\n",
    "upper_bound = upperq + (1.5*iqr)\n",
    "print(f\"Values below {lower_bound} could be outliers.\")\n",
    "print(f\"Values above {upper_bound} could be outliers.\")\n",
    "df_pm25_patna = patna_df.loc[patna_df['parameter'] == 'pm25']\n",
    "df_pm25_patna.head()\n",
    "\n",
    "#  delhi\n",
    "df_pm25_delhi = delhi_df.loc[delhi_df['parameter'] == 'pm25']\n",
    "df_pm25_delhi.head()\n",
    "\n",
    "quartiles = df_pm25_delhi['value'].quantile([.25,.5,.75])\n",
    "lowerq = quartiles[0.25]\n",
    "upperq = quartiles[0.75]\n",
    "iqr = upperq-lowerq\n",
    "\n",
    "print(f\"The lower quartile of pm25 is: {lowerq}\")\n",
    "print(f\"The upper quartile of pm25 is: {upperq}\")\n",
    "print(f\"The interquartile range of pm25 is: {iqr}\")\n",
    "print(f\"The the median of pm25 is: {quartiles[0.5]} \")\n",
    "\n",
    "lower_bound = lowerq - (1.5*iqr)\n",
    "upper_bound = upperq + (1.5*iqr)\n",
    "print(f\"Values below {lower_bound} could be outliers.\")\n",
    "print(f\"Values above {upper_bound} could be outliers.\")\n",
    "\n",
    "#Create a list to use as labels and dataframe\n",
    "ALL_FOUR = ['Delhi', 'Patna', 'Mumbai', 'Chennai']\n",
    "flierprops = dict(markerfacecolor= \"red\")\n",
    "\n",
    "\n",
    "# Title and Labels         \n",
    "plt.boxplot([delhi_df[\"value\"],patna_df[\"value\"],mumbai_df[\"value\"],chennai_df[\"value\"]], flierprops=flierprops, labels= ALL_FOUR)\n",
    "plt.ylim(0, 500)\n",
    "plt.title(\"Box Plot\", fontweight= \"bold\")\n",
    "plt.xlabel(\"Cities\", fontweight= \"bold\")\n",
    "plt.ylabel(\"PM25_Value\", fontweight= \"bold\")\n",
    "plt.show()\n"
   ]
  },
  {
   "cell_type": "code",
   "execution_count": null,
   "metadata": {},
   "outputs": [],
   "source": [
    "df_pm25_patna = patna_df.loc[patna_df['parameter'] == 'pm25']\n",
    "df_pm25_patna.head()\n",
    "\n",
    "\n",
    "\n",
    "\n"
   ]
  },
  {
   "cell_type": "markdown",
   "metadata": {
    "colab_type": "text",
    "id": "HFIOytlk5nnu"
   },
   "source": [
    "Box Plot of PM25 (y-axis) in each city (x-axis) on 4/1/2020 \n"
   ]
  },
  {
   "cell_type": "code",
   "execution_count": null,
   "metadata": {
    "colab": {},
    "colab_type": "code",
    "id": "qQ3Y9ciO5tHK"
   },
   "outputs": [],
   "source": [
    "\n",
    "\n",
    "temperatures = temperature_df['HourlyDryBulbTemperature']\n",
    "\n",
    "fig1, ax1 = plt.subplots()\n",
    "ax1.set_title('PM25 Levels in Cities')\n",
    "ax1.set_ylabel('PM25 levels)')\n",
    "ax1.boxplot(temperatures)\n",
    "plt.show()"
   ]
  },
  {
   "cell_type": "markdown",
   "metadata": {
    "colab_type": "text",
    "id": "8BHWaih551aZ"
   },
   "source": [
    "Pie Chart the average pollutants (NO2, SO2, PM25, CO, O3 ) in each city\n",
    "\n"
   ]
  },
  {
   "cell_type": "code",
   "execution_count": null,
   "metadata": {
    "colab": {},
    "colab_type": "code",
    "id": "vLIq-Fs78peO"
   },
   "outputs": [],
   "source": [
    "groupby_sex = merged_df.groupby([\"Mouse ID\",\"Sex\"])\n",
    "groupby_sex\n",
    "\n",
    "# Syntax: dataframe.size\n",
    "# Return : Returns size of dataframe/series which is equivalent to total number of elements. That is rows x columns.\n",
    "mouse_sex_df = pd.DataFrame(groupby_sex.size())\n",
    "\n",
    "# Create the df with total count of Female and Male mice\n",
    "#  use groupby by sex to count the amount of males and female mice \n",
    "final_mouse_sex = pd.DataFrame(mouse_sex_df.groupby([\"Sex\"]).count())\n",
    "final_mouse_sex.columns = [\"Total Count\"]\n",
    "\n",
    "# format the % of female vs male\n",
    "final_mouse_sex[\"Percentage of Sex\"] = (100*(final_mouse_sex[\"Total Count\"]/final_mouse_sex[\"Total Count\"].sum()))\n",
    "\n",
    "# format the \"Percentage of Sex\" column\n",
    "final_mouse_sex[\"Percentage of Sex\"] = final_mouse_sex[\"Percentage of Sex\"]\n",
    "# Run to check code \n",
    "final_mouse_sex\n",
    "\n",
    "# Generate a pie plot showing the distribution of female versus male mice using pandas \n",
    "#plot = name of the data frame .plot.pie (sumplots true)\n",
    "colors = ['teal', 'yellow']\n",
    "explode = (0.2, 0)\n",
    "plot = mouse_gender.plot.pie(y=\"Total Count\",figsize=(6,6), colors = colors, startangle=140, explode = explode, shadow = True, autopct=\"%1.1f%%\")"
   ]
  },
  {
   "cell_type": "markdown",
   "metadata": {
    "colab_type": "text",
    "id": "AHCQQlUE8px-"
   },
   "source": [
    "Scatter Plot [Group selected city]'s PM25 levels throughout day \n",
    "\n",
    "\n",
    "*  **Date:** [*Group selected date with sufficient PM25 datapoint]*\n",
    "*  **Determine time range for parts of day:** Morning [time range EX 12:00 am - 7:59 am?], Midday [time range EX 8:00 am- 3:59 pm], Evening [time range EX 4:00pm -11:59pm]\n",
    "*  **Axis:** X-value: time; y-value: mean PM25 within time of day\n",
    "\n",
    "\n",
    "\n",
    "\n",
    "\n"
   ]
  },
  {
   "cell_type": "code",
   "execution_count": null,
   "metadata": {
    "colab": {},
    "colab_type": "code",
    "id": "QcID_rjS890j"
   },
   "outputs": [],
   "source": [
    "# The maximum x value for our chart will be 100\n",
    "x_limit = 100\n",
    "\n",
    "# List of values from 0 to 100 each value being 1 greater than the last\n",
    "x_axis = np.arange(0, x_limit, 1)\n",
    "\n",
    "# Create a random array of data that we will use for our y values\n",
    "data = [random.random() for value in x_axis]  In [4]:  # Tells matplotlib that we want to make a scatter plot\n",
    "# The size of each point on our plot is determined by their x value\n",
    "plt.scatter(x_axis, data, marker=\"o\", facecolors=\"red\", edgecolors=\"black\",\n",
    "            s=x_axis, alpha=0.75)  Out [4]:  <IPython.core.display.Javascript object>  Out [4]:  <matplotlib.collections.PathCollection at 0x110a26da0> In [11]:  # The y limits of our scatter plot is 0 to 1\n",
    "plt.ylim(0, 1)  Out [11]:  (0, 1) In [5]:  # The x limits of our scatter plot is 0 to 100\n",
    "plt.xlim(0, x_limit)  Out [5]:  (0, 100) In [6]:  # Prints the scatter plot to the screen\n",
    "plt.show()"
   ]
  }
 ],
 "metadata": {
  "colab": {
   "collapsed_sections": [],
   "name": "MASTER - AirPolluation.ipynb",
   "provenance": [],
   "toc_visible": true
  },
  "kernelspec": {
   "display_name": "Python 3",
   "language": "python",
   "name": "python3"
  },
  "language_info": {
   "codemirror_mode": {
    "name": "ipython",
    "version": 3
   },
   "file_extension": ".py",
   "mimetype": "text/x-python",
   "name": "python",
   "nbconvert_exporter": "python",
   "pygments_lexer": "ipython3",
   "version": "3.7.6"
  }
 },
 "nbformat": 4,
 "nbformat_minor": 1
}
