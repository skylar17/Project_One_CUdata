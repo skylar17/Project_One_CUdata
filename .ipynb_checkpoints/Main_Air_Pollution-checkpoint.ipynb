{
 "cells": [
  {
   "cell_type": "markdown",
   "metadata": {
    "colab_type": "text",
    "id": "EOYo-tYOkrKw"
   },
   "source": [
    "# Analysis focuses on -\n",
    "\n",
    "- Country: India\n",
    "- Cities: Chennai, Delhi, Kolkata and Mumbai\n",
    "- Pollutants: co, so3, o3, n02\n",
    "- Date: June 22, 2020\n",
    "- Cross sectional: June 22, 2017"
   ]
  },
  {
   "cell_type": "code",
   "execution_count": 38,
   "metadata": {
    "colab": {},
    "colab_type": "code",
    "id": "ucR_I3iNjSkI"
   },
   "outputs": [],
   "source": [
    "#Dependencies\n",
    "import pandas as pd\n",
    "import numpy as np\n",
    "import matplotlib.pyplot as plt\n",
    "import time\n",
    "import io\n",
    "import os\n",
    "import csv"
   ]
  },
  {
   "cell_type": "code",
   "execution_count": null,
   "metadata": {},
   "outputs": [],
   "source": [
    "# Delhi location center: Aya Nagar, Delhi - IMD\n",
    "# Delhi coordinates: 28.47,77.10\n",
    "\n",
    "# Mumbai location center: Chhatrapati Shivaji Intl. Airport (T2), Mumbai - MPCB\n",
    "# Mumbai coordinates: 19.10,72.83\n",
    "\n",
    "# Chennai location center: Velachery Res. Area, Chennai - CPCB\n",
    "# Chennai coordinates: 13.00,80.23\n",
    "\n",
    "# Patna location center: Govt. High School Shikarpur, Patna - BSPCB\n",
    "# Patna coordinates: 25.59,85.22"
   ]
  },
  {
   "cell_type": "code",
   "execution_count": 39,
   "metadata": {
    "colab": {
     "base_uri": "https://localhost:8080/",
     "height": 395
    },
    "colab_type": "code",
    "id": "Mb8ySGuzK0zq",
    "outputId": "38cfbfc0-0f2c-494f-b72e-d2ec7ca611df",
    "scrolled": true
   },
   "outputs": [],
   "source": [
    "# Setup Dataframe for each city from the data we retrieved from web\n",
    "chennai_df = pd.read_csv('Main_Data_Retrieval/Chennai_data.csv')\n",
    "delhi_df = pd.read_csv('Main_Data_Retrieval/Delhi_data.csv')\n",
    "kolkata_df = pd.read_csv('Main_Data_Retrieval/Kolkata_data.csv')\n",
    "mumbai_df = pd.read_csv('Main_Data_Retrieval/Mumbai_data.csv')"
   ]
  },
  {
   "cell_type": "code",
   "execution_count": 40,
   "metadata": {},
   "outputs": [],
   "source": [
    "#Drop pm25 and pm10 for all cities\n",
    "drop_parameter = [\"pm25\", \"pm10\"]\n",
    "\n",
    "final_chennai_df = chennai_df[chennai_df[\"parameter\"].isin(drop_parameter)==False]\n",
    "final_delhi_df = delhi_df[delhi_df[\"parameter\"].isin(drop_parameter)==False]\n",
    "final_kolkata_df = kolkata_df[kolkata_df[\"parameter\"].isin(drop_parameter)==False]\n",
    "final_mumbai_df = mumbai_df[mumbai_df[\"parameter\"].isin(drop_parameter)==False]"
   ]
  },
  {
   "cell_type": "code",
   "execution_count": 41,
   "metadata": {},
   "outputs": [
    {
     "data": {
      "text/html": [
       "<div>\n",
       "<style scoped>\n",
       "    .dataframe tbody tr th:only-of-type {\n",
       "        vertical-align: middle;\n",
       "    }\n",
       "\n",
       "    .dataframe tbody tr th {\n",
       "        vertical-align: top;\n",
       "    }\n",
       "\n",
       "    .dataframe thead th {\n",
       "        text-align: right;\n",
       "    }\n",
       "</style>\n",
       "<table border=\"1\" class=\"dataframe\">\n",
       "  <thead>\n",
       "    <tr style=\"text-align: right;\">\n",
       "      <th></th>\n",
       "      <th>Unnamed: 0</th>\n",
       "      <th>location</th>\n",
       "      <th>city</th>\n",
       "      <th>country</th>\n",
       "      <th>utc</th>\n",
       "      <th>local</th>\n",
       "      <th>parameter</th>\n",
       "      <th>value</th>\n",
       "      <th>unit</th>\n",
       "      <th>latitude</th>\n",
       "      <th>longitude</th>\n",
       "      <th>attribution</th>\n",
       "    </tr>\n",
       "  </thead>\n",
       "  <tbody>\n",
       "    <tr>\n",
       "      <th>0</th>\n",
       "      <td>0</td>\n",
       "      <td>Velachery Res. Area, Chennai - CPCB</td>\n",
       "      <td>Chennai</td>\n",
       "      <td>IN</td>\n",
       "      <td>2020-06-22T23:30:00.000Z</td>\n",
       "      <td>2020-06-23T05:00:00+05:30</td>\n",
       "      <td>no2</td>\n",
       "      <td>3.27</td>\n",
       "      <td>µg/m³</td>\n",
       "      <td>13.005219</td>\n",
       "      <td>80.239812</td>\n",
       "      <td>[{\"name\":\"Central Pollution Control Board\",\"ur...</td>\n",
       "    </tr>\n",
       "    <tr>\n",
       "      <th>1</th>\n",
       "      <td>1</td>\n",
       "      <td>Velachery Res. Area, Chennai - CPCB</td>\n",
       "      <td>Chennai</td>\n",
       "      <td>IN</td>\n",
       "      <td>2020-06-22T23:30:00.000Z</td>\n",
       "      <td>2020-06-23T05:00:00+05:30</td>\n",
       "      <td>so2</td>\n",
       "      <td>3.85</td>\n",
       "      <td>µg/m³</td>\n",
       "      <td>13.005219</td>\n",
       "      <td>80.239812</td>\n",
       "      <td>[{\"name\":\"Central Pollution Control Board\",\"ur...</td>\n",
       "    </tr>\n",
       "    <tr>\n",
       "      <th>2</th>\n",
       "      <td>2</td>\n",
       "      <td>Velachery Res. Area, Chennai - CPCB</td>\n",
       "      <td>Chennai</td>\n",
       "      <td>IN</td>\n",
       "      <td>2020-06-22T23:30:00.000Z</td>\n",
       "      <td>2020-06-23T05:00:00+05:30</td>\n",
       "      <td>o3</td>\n",
       "      <td>0.00</td>\n",
       "      <td>µg/m³</td>\n",
       "      <td>13.005219</td>\n",
       "      <td>80.239812</td>\n",
       "      <td>[{\"name\":\"Central Pollution Control Board\",\"ur...</td>\n",
       "    </tr>\n",
       "    <tr>\n",
       "      <th>3</th>\n",
       "      <td>3</td>\n",
       "      <td>Velachery Res. Area, Chennai - CPCB</td>\n",
       "      <td>Chennai</td>\n",
       "      <td>IN</td>\n",
       "      <td>2020-06-22T23:30:00.000Z</td>\n",
       "      <td>2020-06-23T05:00:00+05:30</td>\n",
       "      <td>co</td>\n",
       "      <td>1010.00</td>\n",
       "      <td>µg/m³</td>\n",
       "      <td>13.005219</td>\n",
       "      <td>80.239812</td>\n",
       "      <td>[{\"name\":\"Central Pollution Control Board\",\"ur...</td>\n",
       "    </tr>\n",
       "    <tr>\n",
       "      <th>5</th>\n",
       "      <td>5</td>\n",
       "      <td>Velachery Res. Area, Chennai - CPCB</td>\n",
       "      <td>Chennai</td>\n",
       "      <td>IN</td>\n",
       "      <td>2020-06-22T23:00:00.000Z</td>\n",
       "      <td>2020-06-23T04:30:00+05:30</td>\n",
       "      <td>no2</td>\n",
       "      <td>1.66</td>\n",
       "      <td>µg/m³</td>\n",
       "      <td>13.005219</td>\n",
       "      <td>80.239812</td>\n",
       "      <td>[{\"name\":\"Central Pollution Control Board\",\"ur...</td>\n",
       "    </tr>\n",
       "  </tbody>\n",
       "</table>\n",
       "</div>"
      ],
      "text/plain": [
       "   Unnamed: 0                             location     city country  \\\n",
       "0           0  Velachery Res. Area, Chennai - CPCB  Chennai      IN   \n",
       "1           1  Velachery Res. Area, Chennai - CPCB  Chennai      IN   \n",
       "2           2  Velachery Res. Area, Chennai - CPCB  Chennai      IN   \n",
       "3           3  Velachery Res. Area, Chennai - CPCB  Chennai      IN   \n",
       "5           5  Velachery Res. Area, Chennai - CPCB  Chennai      IN   \n",
       "\n",
       "                        utc                      local parameter    value  \\\n",
       "0  2020-06-22T23:30:00.000Z  2020-06-23T05:00:00+05:30       no2     3.27   \n",
       "1  2020-06-22T23:30:00.000Z  2020-06-23T05:00:00+05:30       so2     3.85   \n",
       "2  2020-06-22T23:30:00.000Z  2020-06-23T05:00:00+05:30        o3     0.00   \n",
       "3  2020-06-22T23:30:00.000Z  2020-06-23T05:00:00+05:30        co  1010.00   \n",
       "5  2020-06-22T23:00:00.000Z  2020-06-23T04:30:00+05:30       no2     1.66   \n",
       "\n",
       "    unit   latitude  longitude  \\\n",
       "0  µg/m³  13.005219  80.239812   \n",
       "1  µg/m³  13.005219  80.239812   \n",
       "2  µg/m³  13.005219  80.239812   \n",
       "3  µg/m³  13.005219  80.239812   \n",
       "5  µg/m³  13.005219  80.239812   \n",
       "\n",
       "                                         attribution  \n",
       "0  [{\"name\":\"Central Pollution Control Board\",\"ur...  \n",
       "1  [{\"name\":\"Central Pollution Control Board\",\"ur...  \n",
       "2  [{\"name\":\"Central Pollution Control Board\",\"ur...  \n",
       "3  [{\"name\":\"Central Pollution Control Board\",\"ur...  \n",
       "5  [{\"name\":\"Central Pollution Control Board\",\"ur...  "
      ]
     },
     "execution_count": 41,
     "metadata": {},
     "output_type": "execute_result"
    }
   ],
   "source": [
    "#Combined the data for each city in a single file\n",
    "dfs = [final_chennai_df, final_delhi_df, final_kolkata_df, final_mumbai_df]\n",
    "complete_city_df = pd.concat(dfs)\n",
    "complete_city_df.head()"
   ]
  },
  {
   "cell_type": "code",
   "execution_count": 42,
   "metadata": {},
   "outputs": [
    {
     "data": {
      "text/html": [
       "<div>\n",
       "<style scoped>\n",
       "    .dataframe tbody tr th:only-of-type {\n",
       "        vertical-align: middle;\n",
       "    }\n",
       "\n",
       "    .dataframe tbody tr th {\n",
       "        vertical-align: top;\n",
       "    }\n",
       "\n",
       "    .dataframe thead th {\n",
       "        text-align: right;\n",
       "    }\n",
       "</style>\n",
       "<table border=\"1\" class=\"dataframe\">\n",
       "  <thead>\n",
       "    <tr style=\"text-align: right;\">\n",
       "      <th></th>\n",
       "      <th>location</th>\n",
       "      <th>city</th>\n",
       "      <th>utc</th>\n",
       "      <th>parameter</th>\n",
       "      <th>value</th>\n",
       "      <th>latitude</th>\n",
       "      <th>longitude</th>\n",
       "    </tr>\n",
       "  </thead>\n",
       "  <tbody>\n",
       "    <tr>\n",
       "      <th>0</th>\n",
       "      <td>Velachery Res. Area, Chennai - CPCB</td>\n",
       "      <td>Chennai</td>\n",
       "      <td>2020-06-22T23:30:00.000Z</td>\n",
       "      <td>no2</td>\n",
       "      <td>3.27</td>\n",
       "      <td>13.005219</td>\n",
       "      <td>80.239812</td>\n",
       "    </tr>\n",
       "    <tr>\n",
       "      <th>1</th>\n",
       "      <td>Velachery Res. Area, Chennai - CPCB</td>\n",
       "      <td>Chennai</td>\n",
       "      <td>2020-06-22T23:30:00.000Z</td>\n",
       "      <td>so2</td>\n",
       "      <td>3.85</td>\n",
       "      <td>13.005219</td>\n",
       "      <td>80.239812</td>\n",
       "    </tr>\n",
       "    <tr>\n",
       "      <th>2</th>\n",
       "      <td>Velachery Res. Area, Chennai - CPCB</td>\n",
       "      <td>Chennai</td>\n",
       "      <td>2020-06-22T23:30:00.000Z</td>\n",
       "      <td>o3</td>\n",
       "      <td>0.00</td>\n",
       "      <td>13.005219</td>\n",
       "      <td>80.239812</td>\n",
       "    </tr>\n",
       "    <tr>\n",
       "      <th>3</th>\n",
       "      <td>Velachery Res. Area, Chennai - CPCB</td>\n",
       "      <td>Chennai</td>\n",
       "      <td>2020-06-22T23:30:00.000Z</td>\n",
       "      <td>co</td>\n",
       "      <td>1010.00</td>\n",
       "      <td>13.005219</td>\n",
       "      <td>80.239812</td>\n",
       "    </tr>\n",
       "    <tr>\n",
       "      <th>5</th>\n",
       "      <td>Velachery Res. Area, Chennai - CPCB</td>\n",
       "      <td>Chennai</td>\n",
       "      <td>2020-06-22T23:00:00.000Z</td>\n",
       "      <td>no2</td>\n",
       "      <td>1.66</td>\n",
       "      <td>13.005219</td>\n",
       "      <td>80.239812</td>\n",
       "    </tr>\n",
       "  </tbody>\n",
       "</table>\n",
       "</div>"
      ],
      "text/plain": [
       "                              location     city                       utc  \\\n",
       "0  Velachery Res. Area, Chennai - CPCB  Chennai  2020-06-22T23:30:00.000Z   \n",
       "1  Velachery Res. Area, Chennai - CPCB  Chennai  2020-06-22T23:30:00.000Z   \n",
       "2  Velachery Res. Area, Chennai - CPCB  Chennai  2020-06-22T23:30:00.000Z   \n",
       "3  Velachery Res. Area, Chennai - CPCB  Chennai  2020-06-22T23:30:00.000Z   \n",
       "5  Velachery Res. Area, Chennai - CPCB  Chennai  2020-06-22T23:00:00.000Z   \n",
       "\n",
       "  parameter    value   latitude  longitude  \n",
       "0       no2     3.27  13.005219  80.239812  \n",
       "1       so2     3.85  13.005219  80.239812  \n",
       "2        o3     0.00  13.005219  80.239812  \n",
       "3        co  1010.00  13.005219  80.239812  \n",
       "5       no2     1.66  13.005219  80.239812  "
      ]
     },
     "execution_count": 42,
     "metadata": {},
     "output_type": "execute_result"
    }
   ],
   "source": [
    "#Clean dataset by dropping various columns\n",
    "final_df = complete_city_df.drop([\"local\", \"country\",\"attribution\",\"unit\", \"Unnamed: 0\"], axis=1)\n",
    "final_df.head()"
   ]
  },
  {
   "cell_type": "markdown",
   "metadata": {
    "colab_type": "text",
    "id": "NlBjmHXHQhPm"
   },
   "source": [
    "Test Dataframe with header "
   ]
  },
  {
   "cell_type": "markdown",
   "metadata": {
    "colab_type": "text",
    "id": "DVi0Izii5gi3"
   },
   "source": [
    "Summary Table - \n",
    "**Cities:** Chennai, Delhi, Kolkota, Mumbai\n",
    "\n",
    "*   **Cities:** Chennai, Delhi, Kolkota, Mumbai\n",
    "*   **Statistical Distributions:**\n",
    "Mean, Median, Range, Stvd, SEM, IQR \n",
    "*   **Pollutants (values)**: CO\n",
    "\n",
    "\n",
    "* **Cross Sectional Dates: *** PreCOVID 2017 - EX: 6/22/2017\n",
    "COVID Present - EX: 6/22/2020\n",
    "\n",
    "\n",
    "\n",
    "\n",
    "\n",
    "\n"
   ]
  },
  {
   "cell_type": "code",
   "execution_count": 43,
   "metadata": {},
   "outputs": [
    {
     "data": {
      "text/html": [
       "<div>\n",
       "<style scoped>\n",
       "    .dataframe tbody tr th:only-of-type {\n",
       "        vertical-align: middle;\n",
       "    }\n",
       "\n",
       "    .dataframe tbody tr th {\n",
       "        vertical-align: top;\n",
       "    }\n",
       "\n",
       "    .dataframe thead th {\n",
       "        text-align: right;\n",
       "    }\n",
       "</style>\n",
       "<table border=\"1\" class=\"dataframe\">\n",
       "  <thead>\n",
       "    <tr style=\"text-align: right;\">\n",
       "      <th></th>\n",
       "      <th>location</th>\n",
       "      <th>city</th>\n",
       "      <th>utc</th>\n",
       "      <th>parameter</th>\n",
       "      <th>value</th>\n",
       "      <th>latitude</th>\n",
       "      <th>longitude</th>\n",
       "    </tr>\n",
       "  </thead>\n",
       "  <tbody>\n",
       "    <tr>\n",
       "      <th>3</th>\n",
       "      <td>Velachery Res. Area, Chennai - CPCB</td>\n",
       "      <td>Chennai</td>\n",
       "      <td>2020-06-22T23:30:00.000Z</td>\n",
       "      <td>co</td>\n",
       "      <td>1010.0</td>\n",
       "      <td>13.005219</td>\n",
       "      <td>80.239812</td>\n",
       "    </tr>\n",
       "    <tr>\n",
       "      <th>6</th>\n",
       "      <td>Velachery Res. Area, Chennai - CPCB</td>\n",
       "      <td>Chennai</td>\n",
       "      <td>2020-06-22T23:00:00.000Z</td>\n",
       "      <td>co</td>\n",
       "      <td>1250.0</td>\n",
       "      <td>13.005219</td>\n",
       "      <td>80.239812</td>\n",
       "    </tr>\n",
       "    <tr>\n",
       "      <th>12</th>\n",
       "      <td>Velachery Res. Area, Chennai - CPCB</td>\n",
       "      <td>Chennai</td>\n",
       "      <td>2020-06-22T22:45:00.000Z</td>\n",
       "      <td>co</td>\n",
       "      <td>1170.0</td>\n",
       "      <td>13.005219</td>\n",
       "      <td>80.239812</td>\n",
       "    </tr>\n",
       "    <tr>\n",
       "      <th>15</th>\n",
       "      <td>Velachery Res. Area, Chennai - CPCB</td>\n",
       "      <td>Chennai</td>\n",
       "      <td>2020-06-22T22:30:00.000Z</td>\n",
       "      <td>co</td>\n",
       "      <td>1140.0</td>\n",
       "      <td>13.005219</td>\n",
       "      <td>80.239812</td>\n",
       "    </tr>\n",
       "    <tr>\n",
       "      <th>22</th>\n",
       "      <td>Velachery Res. Area, Chennai - CPCB</td>\n",
       "      <td>Chennai</td>\n",
       "      <td>2020-06-22T21:15:00.000Z</td>\n",
       "      <td>co</td>\n",
       "      <td>1140.0</td>\n",
       "      <td>13.005219</td>\n",
       "      <td>80.239812</td>\n",
       "    </tr>\n",
       "  </tbody>\n",
       "</table>\n",
       "</div>"
      ],
      "text/plain": [
       "                               location     city                       utc  \\\n",
       "3   Velachery Res. Area, Chennai - CPCB  Chennai  2020-06-22T23:30:00.000Z   \n",
       "6   Velachery Res. Area, Chennai - CPCB  Chennai  2020-06-22T23:00:00.000Z   \n",
       "12  Velachery Res. Area, Chennai - CPCB  Chennai  2020-06-22T22:45:00.000Z   \n",
       "15  Velachery Res. Area, Chennai - CPCB  Chennai  2020-06-22T22:30:00.000Z   \n",
       "22  Velachery Res. Area, Chennai - CPCB  Chennai  2020-06-22T21:15:00.000Z   \n",
       "\n",
       "   parameter   value   latitude  longitude  \n",
       "3         co  1010.0  13.005219  80.239812  \n",
       "6         co  1250.0  13.005219  80.239812  \n",
       "12        co  1170.0  13.005219  80.239812  \n",
       "15        co  1140.0  13.005219  80.239812  \n",
       "22        co  1140.0  13.005219  80.239812  "
      ]
     },
     "execution_count": 43,
     "metadata": {},
     "output_type": "execute_result"
    }
   ],
   "source": [
    "# DataFrame for CO pollutant\n",
    "df_co = final_df.loc[final_df['parameter'] == 'co']\n",
    "df_co.head()"
   ]
  },
  {
   "cell_type": "code",
   "execution_count": 44,
   "metadata": {
    "colab": {},
    "colab_type": "code",
    "id": "LcrISVpx5nbM",
    "scrolled": true
   },
   "outputs": [
    {
     "data": {
      "text/html": [
       "<div>\n",
       "<style scoped>\n",
       "    .dataframe tbody tr th:only-of-type {\n",
       "        vertical-align: middle;\n",
       "    }\n",
       "\n",
       "    .dataframe tbody tr th {\n",
       "        vertical-align: top;\n",
       "    }\n",
       "\n",
       "    .dataframe thead th {\n",
       "        text-align: right;\n",
       "    }\n",
       "</style>\n",
       "<table border=\"1\" class=\"dataframe\">\n",
       "  <thead>\n",
       "    <tr style=\"text-align: right;\">\n",
       "      <th></th>\n",
       "      <th>Mean</th>\n",
       "      <th>Median</th>\n",
       "      <th>Standard Deviation</th>\n",
       "      <th>Variance</th>\n",
       "      <th>SEM</th>\n",
       "    </tr>\n",
       "    <tr>\n",
       "      <th>city</th>\n",
       "      <th></th>\n",
       "      <th></th>\n",
       "      <th></th>\n",
       "      <th></th>\n",
       "      <th></th>\n",
       "    </tr>\n",
       "  </thead>\n",
       "  <tbody>\n",
       "    <tr>\n",
       "      <th>Chennai</th>\n",
       "      <td>1007.00</td>\n",
       "      <td>990.0</td>\n",
       "      <td>120.40</td>\n",
       "      <td>14495.79</td>\n",
       "      <td>26.92</td>\n",
       "    </tr>\n",
       "    <tr>\n",
       "      <th>Delhi</th>\n",
       "      <td>664.33</td>\n",
       "      <td>440.0</td>\n",
       "      <td>376.05</td>\n",
       "      <td>141411.61</td>\n",
       "      <td>68.66</td>\n",
       "    </tr>\n",
       "    <tr>\n",
       "      <th>Kolkata</th>\n",
       "      <td>263.64</td>\n",
       "      <td>260.0</td>\n",
       "      <td>38.86</td>\n",
       "      <td>1509.96</td>\n",
       "      <td>8.28</td>\n",
       "    </tr>\n",
       "    <tr>\n",
       "      <th>Mumbai</th>\n",
       "      <td>420.56</td>\n",
       "      <td>420.0</td>\n",
       "      <td>87.21</td>\n",
       "      <td>7605.56</td>\n",
       "      <td>20.56</td>\n",
       "    </tr>\n",
       "  </tbody>\n",
       "</table>\n",
       "</div>"
      ],
      "text/plain": [
       "            Mean  Median  Standard Deviation   Variance    SEM\n",
       "city                                                          \n",
       "Chennai  1007.00   990.0              120.40   14495.79  26.92\n",
       "Delhi     664.33   440.0              376.05  141411.61  68.66\n",
       "Kolkata   263.64   260.0               38.86    1509.96   8.28\n",
       "Mumbai    420.56   420.0               87.21    7605.56  20.56"
      ]
     },
     "execution_count": 44,
     "metadata": {},
     "output_type": "execute_result"
    }
   ],
   "source": [
    "# Create summary table for key stats\n",
    "\n",
    "grouped_cities_co_df = df_co.groupby([\"city\"])\n",
    "\n",
    "avg_value = grouped_cities_co_df[\"value\"].mean()\n",
    "\n",
    "median_value = grouped_cities_co_df[\"value\"].median()\n",
    "\n",
    "var_value = grouped_cities_co_df[\"value\"].var()\n",
    "\n",
    "std_value = grouped_cities_co_df[\"value\"].std()\n",
    "\n",
    "sem_value = grouped_cities_co_df[\"value\"].sem()\n",
    " \n",
    "citystats_co_df = pd.DataFrame({\"Mean\": round(avg_value,2), \n",
    "                                \"Median\": round(median_value,2),\n",
    "                                \"Standard Deviation\": round(std_value,2), \n",
    "                                \"Variance\": round(var_value,2), \n",
    "                                \"SEM\": round(sem_value,2)})\n",
    "\n",
    "citystats_co_df.sort_values(\"city\", axis=0, ascending = True)"
   ]
  },
  {
   "cell_type": "code",
   "execution_count": 45,
   "metadata": {},
   "outputs": [
    {
     "data": {
      "image/png": "[encoded data removed]",
      "text/plain": [
       "<Figure size 504x504 with 1 Axes>"
      ]
     },
     "metadata": {
      "needs_background": "light"
     },
     "output_type": "display_data"
    }
   ],
   "source": [
    "# CO by city 2020 Barplot\n",
    "\n",
    "plt.figure(figsize=(7,7))\n",
    "\n",
    "co_barplot = citystats_co_df[\"Mean\"]\n",
    "plt.bar(co_barplot.index.values, co_barplot.values, \n",
    "        color=\"teal\",\n",
    "        align=\"center\", \n",
    "        width = 0.5)\n",
    "\n",
    "# Set a Title and labels\n",
    "plt.xlabel(\"Cities\")\n",
    "plt.xticks(rotation=45)\n",
    "plt.ylabel(\"Average level of CO\")\n",
    "plt.title(\"Carbon monoxide (CO) level per city - 2020\")\n",
    "plt.legend([\"2020 CO_Mean\"])\n",
    "\n",
    "# Set x and y limits\n",
    "plt.xlim(-0.5, 3.5)\n",
    "plt.ylim(0, 1100)\n",
    "\n",
    "plt.savefig(\"Main_output_images/CO_Mean_2020_barplot.png\")"
   ]
  },
  {
   "cell_type": "markdown",
   "metadata": {},
   "source": [
    "Calculate IQR for prep Box Plot "
   ]
  },
  {
   "cell_type": "code",
   "execution_count": 46,
   "metadata": {},
   "outputs": [
    {
     "name": "stdout",
     "output_type": "stream",
     "text": [
      "The lower quartile of co for Chennai is: 930.0\n",
      "The upper quartile of co for Chennai is: 1095.0\n",
      "The interquartile range of co for Chennai is: 165.0\n",
      "The the median of pm25 is: 990.0 \n",
      "Chennai - values below 682.5 could be outliers.\n",
      "Chennai - values above 1342.5 could be outliers.\n",
      "The lower quartile of co for Delhi is is: 372.5\n",
      "The upper quartile of co for Delhi is is: 1072.5\n",
      "The interquartile range of co for Delhi is is: 700.0\n",
      "The the median of co for Delhi is: 440.0 \n",
      "Delhi - values below -677.5 could be outliers.\n",
      "Delhi - values above 2122.5 could be outliers.\n",
      "The lower quartile of co for Kolkata is: 260.0\n",
      "The upper quartile of co for Kolkata: 287.5\n",
      "The interquartile range of co for Kolkata is: 27.5\n",
      "The the median of co for Kolkata is: 260.0 \n",
      "Kolkata - values below 218.75 could be outliers.\n",
      "Kolkata - values above 328.75 could be outliers.\n",
      "The lower quartile of co for Mumbai is: 352.5\n",
      "The upper quartile of co for Mumbai is: 497.5\n",
      "The interquartile range of co for Mumbai is: 145.0\n",
      "The the median of co for Mumbai is: 420.0 \n",
      "Mumbai - values below 135.0 could be outliers.\n",
      "Mumbai - values above 715.0 could be outliers.\n"
     ]
    }
   ],
   "source": [
    "#  IQR Min, Median, Max\n",
    "\n",
    "# Chennai \n",
    "df_co_chennai = chennai_df.loc[chennai_df['parameter'] == 'co']\n",
    "df_co_chennai.head()\n",
    "\n",
    "quartiles = df_co_chennai['value'].quantile([.25,.5,.75])\n",
    "lowerq = quartiles[0.25]\n",
    "upperq = quartiles[0.75]\n",
    "iqr = upperq-lowerq\n",
    "\n",
    "print(f\"The lower quartile of co for Chennai is: {lowerq}\")\n",
    "print(f\"The upper quartile of co for Chennai is: {upperq}\")\n",
    "print(f\"The interquartile range of co for Chennai is: {iqr}\")\n",
    "print(f\"The the median of pm25 is: {quartiles[0.5]} \")\n",
    "\n",
    "lower_bound = lowerq - (1.5*iqr)\n",
    "upper_bound = upperq + (1.5*iqr)\n",
    "print(f\"Chennai - values below {lower_bound} could be outliers.\")\n",
    "print(f\"Chennai - values above {upper_bound} could be outliers.\")\n",
    "\n",
    "#  Delhi\n",
    "df_co_delhi = delhi_df.loc[delhi_df['parameter'] == 'co']\n",
    "df_co_delhi.head()\n",
    "\n",
    "quartiles = df_co_delhi['value'].quantile([.25,.5,.75])\n",
    "lowerq = quartiles[0.25]\n",
    "upperq = quartiles[0.75]\n",
    "iqr = upperq-lowerq\n",
    "\n",
    "print(f\"The lower quartile of co for Delhi is is: {lowerq}\")\n",
    "print(f\"The upper quartile of co for Delhi is is: {upperq}\")\n",
    "print(f\"The interquartile range of co for Delhi is is: {iqr}\")\n",
    "print(f\"The the median of co for Delhi is: {quartiles[0.5]} \")\n",
    "\n",
    "lower_bound = lowerq - (1.5*iqr)\n",
    "upper_bound = upperq + (1.5*iqr)\n",
    "print(f\"Delhi - values below {lower_bound} could be outliers.\")\n",
    "print(f\"Delhi - values above {upper_bound} could be outliers.\")\n",
    "\n",
    "# Kolkata\n",
    "df_co_kolkata = kolkata_df.loc[kolkata_df['parameter'] == 'co']\n",
    "df_co_kolkata.head()\n",
    "\n",
    "quartiles = df_co_kolkata['value'].quantile([.25,.5,.75])\n",
    "lowerq = quartiles[0.25]\n",
    "upperq = quartiles[0.75]\n",
    "iqr = upperq-lowerq\n",
    "\n",
    "print(f\"The lower quartile of co for Kolkata is: {lowerq}\")\n",
    "print(f\"The upper quartile of co for Kolkata: {upperq}\")\n",
    "print(f\"The interquartile range of co for Kolkata is: {iqr}\")\n",
    "print(f\"The the median of co for Kolkata is: {quartiles[0.5]} \")\n",
    "\n",
    "lower_bound = lowerq - (1.5*iqr)\n",
    "upper_bound = upperq + (1.5*iqr)\n",
    "print(f\"Kolkata - values below {lower_bound} could be outliers.\")\n",
    "print(f\"Kolkata - values above {upper_bound} could be outliers.\")\n",
    "\n",
    "#  Mumbai \n",
    "df_co_mumbai = mumbai_df.loc[mumbai_df['parameter'] == 'co']\n",
    "df_co_mumbai.head()\n",
    "\n",
    "quartiles = df_co_mumbai['value'].quantile([.25,.5,.75])\n",
    "lowerq = quartiles[0.25]\n",
    "upperq = quartiles[0.75]\n",
    "iqr = upperq-lowerq\n",
    "\n",
    "print(f\"The lower quartile of co for Mumbai is: {lowerq}\")\n",
    "print(f\"The upper quartile of co for Mumbai is: {upperq}\")\n",
    "print(f\"The interquartile range of co for Mumbai is: {iqr}\")\n",
    "print(f\"The the median of co for Mumbai is: {quartiles[0.5]} \")\n",
    "\n",
    "lower_bound = lowerq - (1.5*iqr)\n",
    "upper_bound = upperq + (1.5*iqr)\n",
    "print(f\"Mumbai - values below {lower_bound} could be outliers.\")\n",
    "print(f\"Mumbai - values above {upper_bound} could be outliers.\")\n",
    "\n"
   ]
  },
  {
   "cell_type": "code",
   "execution_count": 47,
   "metadata": {},
   "outputs": [
    {
     "data": {
      "text/plain": [
       "<Figure size 936x648 with 0 Axes>"
      ]
     },
     "metadata": {},
     "output_type": "display_data"
    },
    {
     "data": {
      "image/png": "[encoded data removed]",
      "text/plain": [
       "<Figure size 648x648 with 1 Axes>"
      ]
     },
     "metadata": {
      "needs_background": "light"
     },
     "output_type": "display_data"
    }
   ],
   "source": [
    "# CO by city 2020 Boxplot\n",
    "\n",
    "plt.figure(figsize=(13, 9))\n",
    "plt.subplots(figsize=(9, 9))\n",
    "\n",
    "#Create a list to use as labels and dataframe\n",
    "ALL_FOUR = [\"Chennai\", \"Delhi\", \"Kolkata\", \"Mumbai\"]\n",
    "flierprops = dict(marker='d', markeredgecolor='k', markerfacecolor= \"r\")\n",
    "\n",
    "\n",
    "# Title and Labels         \n",
    "plt.boxplot([df_co_chennai[\"value\"], df_co_delhi[\"value\"], df_co_kolkata[\"value\"], df_co_mumbai[\"value\"]], \n",
    "            flierprops=flierprops, \n",
    "            labels= ALL_FOUR)\n",
    "\n",
    "\n",
    "plt.title(\"Comparison of CO Levels in Each City\", fontweight= \"bold\")\n",
    "plt.xlabel(\"Cities\", fontweight= \"bold\")\n",
    "plt.ylabel(\"CO Value\", fontweight= \"bold\")\n",
    "\n",
    "plt.ylim(0, 2000)\n",
    "\n",
    "plt.savefig(\"Main_output_images/CO_BoxPlot.png\")\n",
    "\n",
    "plt.show()"
   ]
  },
  {
   "cell_type": "markdown",
   "metadata": {
    "colab_type": "text",
    "id": "HFIOytlk5nnu"
   },
   "source": [
    "* Box Plot of CO (y-axis) in each city (x-axis) on 6/22/2020 "
   ]
  },
  {
   "cell_type": "markdown",
   "metadata": {
    "colab_type": "text",
    "id": "8BHWaih551aZ"
   },
   "source": [
    "* Pie Chart the average pollutants (NO2, SO2, CO, O3 ) in each city"
   ]
  },
  {
   "cell_type": "code",
   "execution_count": 48,
   "metadata": {},
   "outputs": [
    {
     "data": {
      "image/png": "[encoded data removed]",
      "text/plain": [
       "<Figure size 576x720 with 1 Axes>"
      ]
     },
     "metadata": {},
     "output_type": "display_data"
    }
   ],
   "source": [
    "# Chennai 2020 Pieplot\n",
    "\n",
    "chennai_pie = final_chennai_df.groupby([\"parameter\"])\n",
    "chennai_mean_plot = chennai_pie.value.mean()\n",
    "\n",
    "explode = (0, 0.1, 0, 0)\n",
    "chennai_mean_plot.plot(kind=\"pie\", \n",
    "                       subplots=True, \n",
    "                       title=\"Air Pollutants in Chennai on 22-June-2020\", \n",
    "                       autopct=\"%1.1f%%\",\n",
    "                       figsize=(8,10),\n",
    "                       startangle=25,\n",
    "                       explode=explode,\n",
    "                       legend=True)\n",
    "\n",
    "plt.savefig(\"Main_output_images/Chennai_2020_Pi.png\")"
   ]
  },
  {
   "cell_type": "code",
   "execution_count": 49,
   "metadata": {},
   "outputs": [
    {
     "data": {
      "image/png": "[encoded data removed]",
      "text/plain": [
       "<Figure size 576x720 with 1 Axes>"
      ]
     },
     "metadata": {},
     "output_type": "display_data"
    }
   ],
   "source": [
    "# Delhi 2020 Pieplot\n",
    "\n",
    "delhi_pie = final_delhi_df.groupby([\"parameter\"])\n",
    "delhi_mean_plot = delhi_pie.value.mean()\n",
    "explode = (0, 0.1, 0, 0)\n",
    "delhi_mean_plot.plot(kind=\"pie\", \n",
    "                     subplots=True, \n",
    "                     title=\"Air Pollutants in Delhi on 22-June-2020\",\n",
    "                     startangle=25,\n",
    "                     autopct=\"%1.1f%%\", \n",
    "                     figsize=(8,10), \n",
    "                     explode=explode, \n",
    "                     legend=True)\n",
    "\n",
    "plt.savefig(\"Main_output_images/Delhi_2020_Pi.png\")"
   ]
  },
  {
   "cell_type": "code",
   "execution_count": 50,
   "metadata": {},
   "outputs": [
    {
     "data": {
      "image/png": "[encoded data removed]",
      "text/plain": [
       "<Figure size 576x720 with 1 Axes>"
      ]
     },
     "metadata": {},
     "output_type": "display_data"
    }
   ],
   "source": [
    "# Kolkata 2020 Pieplot\n",
    "\n",
    "kolkata_pie = final_kolkata_df.groupby([\"parameter\"])\n",
    "kolkata_mean_plot = kolkata_pie.value.mean()\n",
    "explode = (0, 0.1, 0, 0)\n",
    "kolkata_mean_plot.plot(kind=\"pie\", \n",
    "                       subplots=True, \n",
    "                       title=\"Air Pollutants in Kolkata on 22-June-2020\", \n",
    "                       startangle=25,\n",
    "                       autopct=\"%1.1f%%\",\n",
    "                       figsize=(8,10), \n",
    "                       explode=explode, \n",
    "                       legend=True)\n",
    "\n",
    "plt.savefig(\"Main_output_images/Kolkata_2020_Pi.png\")"
   ]
  },
  {
   "cell_type": "code",
   "execution_count": 51,
   "metadata": {},
   "outputs": [
    {
     "data": {
      "image/png": "[encoded data removed]",
      "text/plain": [
       "<Figure size 576x720 with 1 Axes>"
      ]
     },
     "metadata": {},
     "output_type": "display_data"
    }
   ],
   "source": [
    "# Mumbai 2020 Pieplot\n",
    "\n",
    "mumbai_pie = final_mumbai_df.groupby([\"parameter\"])\n",
    "mumbai_mean_plot = mumbai_pie.value.mean()\n",
    "explode = (0, 0.1, 0, 0)\n",
    "mumbai_mean_plot.plot(kind=\"pie\", \n",
    "                      subplots=True, \n",
    "                      title=\"Air Pollutants in Mumbai on 22-June-2020\", \n",
    "                      autopct=\"%1.1f%%\",\n",
    "                      startangle=25,\n",
    "                      figsize=(8,10), \n",
    "                      explode=explode, \n",
    "                      legend=True)\n",
    "\n",
    "plt.savefig(\"Main_output_images/Mumbai_2020_Pi.png\")"
   ]
  },
  {
   "cell_type": "markdown",
   "metadata": {},
   "source": [
    "# Cross Sectional Analysis"
   ]
  },
  {
   "cell_type": "code",
   "execution_count": 52,
   "metadata": {},
   "outputs": [],
   "source": [
    "#For Cross Sectional Analysis\n",
    "\n",
    "#Chennai location center: IIT\n",
    "#Chennai coordinates: 12.99,80.23\n",
    "\n",
    "#Delhi location center: NSIT Dwarka\n",
    "#Delhi coordinate: 28.59,77.05\n",
    "\n",
    "#Kolkata location center: Rabindra Bharati University, Kolkata - WBSPCB\n",
    "#Kolkata coordinates: 22.62,88.38\n",
    "\n",
    "#Mumbai location center: Maharashtra Pollution Control Board Bandra\n",
    "#Mumbai coordinates: 19.04,72.86"
   ]
  },
  {
   "cell_type": "code",
   "execution_count": 53,
   "metadata": {
    "colab": {},
    "colab_type": "code",
    "id": "QcID_rjS890j"
   },
   "outputs": [
    {
     "data": {
      "text/html": [
       "<div>\n",
       "<style scoped>\n",
       "    .dataframe tbody tr th:only-of-type {\n",
       "        vertical-align: middle;\n",
       "    }\n",
       "\n",
       "    .dataframe tbody tr th {\n",
       "        vertical-align: top;\n",
       "    }\n",
       "\n",
       "    .dataframe thead th {\n",
       "        text-align: right;\n",
       "    }\n",
       "</style>\n",
       "<table border=\"1\" class=\"dataframe\">\n",
       "  <thead>\n",
       "    <tr style=\"text-align: right;\">\n",
       "      <th></th>\n",
       "      <th>Location</th>\n",
       "      <th>City</th>\n",
       "      <th>Date/Time</th>\n",
       "      <th>Parameter</th>\n",
       "      <th>Value</th>\n",
       "      <th>LAT</th>\n",
       "      <th>LON</th>\n",
       "    </tr>\n",
       "  </thead>\n",
       "  <tbody>\n",
       "    <tr>\n",
       "      <th>0</th>\n",
       "      <td>Rabindra Bharati University, Kolkata - WBSPCB</td>\n",
       "      <td>Kolkata</td>\n",
       "      <td>2017-06-22T23:45:00.000Z</td>\n",
       "      <td>pm10</td>\n",
       "      <td>56.70</td>\n",
       "      <td>22.627875</td>\n",
       "      <td>88.3804</td>\n",
       "    </tr>\n",
       "    <tr>\n",
       "      <th>1</th>\n",
       "      <td>Rabindra Bharati University, Kolkata - WBSPCB</td>\n",
       "      <td>Kolkata</td>\n",
       "      <td>2017-06-22T23:45:00.000Z</td>\n",
       "      <td>o3</td>\n",
       "      <td>17.35</td>\n",
       "      <td>22.627875</td>\n",
       "      <td>88.3804</td>\n",
       "    </tr>\n",
       "    <tr>\n",
       "      <th>2</th>\n",
       "      <td>Rabindra Bharati University, Kolkata - WBSPCB</td>\n",
       "      <td>Kolkata</td>\n",
       "      <td>2017-06-22T23:45:00.000Z</td>\n",
       "      <td>co</td>\n",
       "      <td>370.00</td>\n",
       "      <td>22.627875</td>\n",
       "      <td>88.3804</td>\n",
       "    </tr>\n",
       "    <tr>\n",
       "      <th>3</th>\n",
       "      <td>Rabindra Bharati University, Kolkata - WBSPCB</td>\n",
       "      <td>Kolkata</td>\n",
       "      <td>2017-06-22T23:45:00.000Z</td>\n",
       "      <td>so2</td>\n",
       "      <td>22.58</td>\n",
       "      <td>22.627875</td>\n",
       "      <td>88.3804</td>\n",
       "    </tr>\n",
       "    <tr>\n",
       "      <th>4</th>\n",
       "      <td>Rabindra Bharati University, Kolkata - WBSPCB</td>\n",
       "      <td>Kolkata</td>\n",
       "      <td>2017-06-22T23:45:00.000Z</td>\n",
       "      <td>no2</td>\n",
       "      <td>15.70</td>\n",
       "      <td>22.627875</td>\n",
       "      <td>88.3804</td>\n",
       "    </tr>\n",
       "  </tbody>\n",
       "</table>\n",
       "</div>"
      ],
      "text/plain": [
       "                                        Location     City  \\\n",
       "0  Rabindra Bharati University, Kolkata - WBSPCB  Kolkata   \n",
       "1  Rabindra Bharati University, Kolkata - WBSPCB  Kolkata   \n",
       "2  Rabindra Bharati University, Kolkata - WBSPCB  Kolkata   \n",
       "3  Rabindra Bharati University, Kolkata - WBSPCB  Kolkata   \n",
       "4  Rabindra Bharati University, Kolkata - WBSPCB  Kolkata   \n",
       "\n",
       "                  Date/Time Parameter   Value        LAT      LON  \n",
       "0  2017-06-22T23:45:00.000Z      pm10   56.70  22.627875  88.3804  \n",
       "1  2017-06-22T23:45:00.000Z        o3   17.35  22.627875  88.3804  \n",
       "2  2017-06-22T23:45:00.000Z        co  370.00  22.627875  88.3804  \n",
       "3  2017-06-22T23:45:00.000Z       so2   22.58  22.627875  88.3804  \n",
       "4  2017-06-22T23:45:00.000Z       no2   15.70  22.627875  88.3804  "
      ]
     },
     "execution_count": 53,
     "metadata": {},
     "output_type": "execute_result"
    }
   ],
   "source": [
    "#Historical data (2017) \n",
    "csv_file = \"Main_Data_Retrieval/clean_historical_data.csv\"\n",
    "historical_data_df = pd.read_csv(csv_file)\n",
    "historical_data_df.head()"
   ]
  },
  {
   "cell_type": "code",
   "execution_count": 54,
   "metadata": {},
   "outputs": [
    {
     "data": {
      "text/html": [
       "<div>\n",
       "<style scoped>\n",
       "    .dataframe tbody tr th:only-of-type {\n",
       "        vertical-align: middle;\n",
       "    }\n",
       "\n",
       "    .dataframe tbody tr th {\n",
       "        vertical-align: top;\n",
       "    }\n",
       "\n",
       "    .dataframe thead th {\n",
       "        text-align: right;\n",
       "    }\n",
       "</style>\n",
       "<table border=\"1\" class=\"dataframe\">\n",
       "  <thead>\n",
       "    <tr style=\"text-align: right;\">\n",
       "      <th></th>\n",
       "      <th>Location</th>\n",
       "      <th>City</th>\n",
       "      <th>Date/Time</th>\n",
       "      <th>Parameter</th>\n",
       "      <th>Value</th>\n",
       "      <th>LAT</th>\n",
       "      <th>LON</th>\n",
       "    </tr>\n",
       "  </thead>\n",
       "  <tbody>\n",
       "    <tr>\n",
       "      <th>1</th>\n",
       "      <td>Rabindra Bharati University, Kolkata - WBSPCB</td>\n",
       "      <td>Kolkata</td>\n",
       "      <td>2017-06-22T23:45:00.000Z</td>\n",
       "      <td>o3</td>\n",
       "      <td>17.35</td>\n",
       "      <td>22.627875</td>\n",
       "      <td>88.380400</td>\n",
       "    </tr>\n",
       "    <tr>\n",
       "      <th>2</th>\n",
       "      <td>Rabindra Bharati University, Kolkata - WBSPCB</td>\n",
       "      <td>Kolkata</td>\n",
       "      <td>2017-06-22T23:45:00.000Z</td>\n",
       "      <td>co</td>\n",
       "      <td>370.00</td>\n",
       "      <td>22.627875</td>\n",
       "      <td>88.380400</td>\n",
       "    </tr>\n",
       "    <tr>\n",
       "      <th>3</th>\n",
       "      <td>Rabindra Bharati University, Kolkata - WBSPCB</td>\n",
       "      <td>Kolkata</td>\n",
       "      <td>2017-06-22T23:45:00.000Z</td>\n",
       "      <td>so2</td>\n",
       "      <td>22.58</td>\n",
       "      <td>22.627875</td>\n",
       "      <td>88.380400</td>\n",
       "    </tr>\n",
       "    <tr>\n",
       "      <th>4</th>\n",
       "      <td>Rabindra Bharati University, Kolkata - WBSPCB</td>\n",
       "      <td>Kolkata</td>\n",
       "      <td>2017-06-22T23:45:00.000Z</td>\n",
       "      <td>no2</td>\n",
       "      <td>15.70</td>\n",
       "      <td>22.627875</td>\n",
       "      <td>88.380400</td>\n",
       "    </tr>\n",
       "    <tr>\n",
       "      <th>6</th>\n",
       "      <td>NSIT Dwarka</td>\n",
       "      <td>Delhi</td>\n",
       "      <td>2017-06-22T23:45:00.000Z</td>\n",
       "      <td>o3</td>\n",
       "      <td>3.90</td>\n",
       "      <td>28.591000</td>\n",
       "      <td>77.050000</td>\n",
       "    </tr>\n",
       "    <tr>\n",
       "      <th>...</th>\n",
       "      <td>...</td>\n",
       "      <td>...</td>\n",
       "      <td>...</td>\n",
       "      <td>...</td>\n",
       "      <td>...</td>\n",
       "      <td>...</td>\n",
       "      <td>...</td>\n",
       "    </tr>\n",
       "    <tr>\n",
       "      <th>1164</th>\n",
       "      <td>IIT</td>\n",
       "      <td>Chennai</td>\n",
       "      <td>2017-06-22T00:00:00.000Z</td>\n",
       "      <td>no2</td>\n",
       "      <td>8.28</td>\n",
       "      <td>12.992514</td>\n",
       "      <td>80.237447</td>\n",
       "    </tr>\n",
       "    <tr>\n",
       "      <th>1167</th>\n",
       "      <td>Maharashtra Pollution Control Board Bandra</td>\n",
       "      <td>Mumbai</td>\n",
       "      <td>2017-06-22T00:00:00.000Z</td>\n",
       "      <td>o3</td>\n",
       "      <td>20.57</td>\n",
       "      <td>19.041847</td>\n",
       "      <td>72.865513</td>\n",
       "    </tr>\n",
       "    <tr>\n",
       "      <th>1168</th>\n",
       "      <td>Maharashtra Pollution Control Board Bandra</td>\n",
       "      <td>Mumbai</td>\n",
       "      <td>2017-06-22T00:00:00.000Z</td>\n",
       "      <td>co</td>\n",
       "      <td>280.00</td>\n",
       "      <td>19.041847</td>\n",
       "      <td>72.865513</td>\n",
       "    </tr>\n",
       "    <tr>\n",
       "      <th>1169</th>\n",
       "      <td>Maharashtra Pollution Control Board Bandra</td>\n",
       "      <td>Mumbai</td>\n",
       "      <td>2017-06-22T00:00:00.000Z</td>\n",
       "      <td>so2</td>\n",
       "      <td>9.21</td>\n",
       "      <td>19.041847</td>\n",
       "      <td>72.865513</td>\n",
       "    </tr>\n",
       "    <tr>\n",
       "      <th>1170</th>\n",
       "      <td>Maharashtra Pollution Control Board Bandra</td>\n",
       "      <td>Mumbai</td>\n",
       "      <td>2017-06-22T00:00:00.000Z</td>\n",
       "      <td>no2</td>\n",
       "      <td>9.34</td>\n",
       "      <td>19.041847</td>\n",
       "      <td>72.865513</td>\n",
       "    </tr>\n",
       "  </tbody>\n",
       "</table>\n",
       "<p>890 rows × 7 columns</p>\n",
       "</div>"
      ],
      "text/plain": [
       "                                           Location     City  \\\n",
       "1     Rabindra Bharati University, Kolkata - WBSPCB  Kolkata   \n",
       "2     Rabindra Bharati University, Kolkata - WBSPCB  Kolkata   \n",
       "3     Rabindra Bharati University, Kolkata - WBSPCB  Kolkata   \n",
       "4     Rabindra Bharati University, Kolkata - WBSPCB  Kolkata   \n",
       "6                                       NSIT Dwarka    Delhi   \n",
       "...                                             ...      ...   \n",
       "1164                                            IIT  Chennai   \n",
       "1167     Maharashtra Pollution Control Board Bandra   Mumbai   \n",
       "1168     Maharashtra Pollution Control Board Bandra   Mumbai   \n",
       "1169     Maharashtra Pollution Control Board Bandra   Mumbai   \n",
       "1170     Maharashtra Pollution Control Board Bandra   Mumbai   \n",
       "\n",
       "                     Date/Time Parameter   Value        LAT        LON  \n",
       "1     2017-06-22T23:45:00.000Z        o3   17.35  22.627875  88.380400  \n",
       "2     2017-06-22T23:45:00.000Z        co  370.00  22.627875  88.380400  \n",
       "3     2017-06-22T23:45:00.000Z       so2   22.58  22.627875  88.380400  \n",
       "4     2017-06-22T23:45:00.000Z       no2   15.70  22.627875  88.380400  \n",
       "6     2017-06-22T23:45:00.000Z        o3    3.90  28.591000  77.050000  \n",
       "...                        ...       ...     ...        ...        ...  \n",
       "1164  2017-06-22T00:00:00.000Z       no2    8.28  12.992514  80.237447  \n",
       "1167  2017-06-22T00:00:00.000Z        o3   20.57  19.041847  72.865513  \n",
       "1168  2017-06-22T00:00:00.000Z        co  280.00  19.041847  72.865513  \n",
       "1169  2017-06-22T00:00:00.000Z       so2    9.21  19.041847  72.865513  \n",
       "1170  2017-06-22T00:00:00.000Z       no2    9.34  19.041847  72.865513  \n",
       "\n",
       "[890 rows x 7 columns]"
      ]
     },
     "execution_count": 54,
     "metadata": {},
     "output_type": "execute_result"
    }
   ],
   "source": [
    "#Drop pm25 and pm10 for all cities\n",
    "drop_parameter = [\"pm25\", \"pm10\"]\n",
    "final_historical_df = historical_data_df[historical_data_df[\"Parameter\"].isin(drop_parameter)==False]\n",
    "final_historical_df"
   ]
  },
  {
   "cell_type": "code",
   "execution_count": 55,
   "metadata": {},
   "outputs": [
    {
     "data": {
      "image/png": "[encoded data removed]",
      "text/plain": [
       "<Figure size 576x720 with 1 Axes>"
      ]
     },
     "metadata": {},
     "output_type": "display_data"
    }
   ],
   "source": [
    "# Chennai 2017 Pieplot\n",
    "\n",
    "hist_chennai_df = final_historical_df.loc[final_historical_df['City'] == 'Chennai']\n",
    "hist_chennai_pie= hist_chennai_df.groupby([\"Parameter\", \"Value\"])\n",
    "hist_chennai_mean_plot = hist_chennai_pie.Value.mean()\n",
    "explode = (0, 0.1, 0, 0)\n",
    "colors = ['skyblue', 'yellow', 'lightgreen', 'coral']\n",
    "\n",
    "chennai_mean_plot.plot(kind=\"pie\", \n",
    "                       subplots=True, \n",
    "                       title=\"Air Pollutants in Chennai on 22-June-2017\", \n",
    "                       autopct=\"%1.1f%%\",\n",
    "                       figsize=(8,10), \n",
    "                       startangle=25, \n",
    "                       explode=explode, \n",
    "                       legend=True, \n",
    "                       colors=colors)\n",
    "\n",
    "plt.savefig(\"Main_output_images/Chennai_2017_Pi.png\")"
   ]
  },
  {
   "cell_type": "code",
   "execution_count": 56,
   "metadata": {},
   "outputs": [
    {
     "data": {
      "image/png": "[encoded data removed]",
      "text/plain": [
       "<Figure size 576x720 with 1 Axes>"
      ]
     },
     "metadata": {},
     "output_type": "display_data"
    }
   ],
   "source": [
    "# Delhi 2017 Pieplot\n",
    "\n",
    "hist_delhi_df = final_historical_df.loc[final_historical_df['City'] == 'Delhi']\n",
    "hist_delhi_pie= hist_delhi_df.groupby([\"Parameter\", \"Value\"])\n",
    "hist_delhi_mean_plot = hist_delhi_pie.Value.mean()\n",
    "explode = (0, 0.1, 0, 0)\n",
    "colors = ['skyblue', 'yellow', 'lightgreen', 'coral']\n",
    "\n",
    "delhi_mean_plot.plot(kind=\"pie\", \n",
    "                     subplots=True, \n",
    "                     title=\"Air Pollutants in Delhi on 22-June-2017\", \n",
    "                     autopct=\"%1.1f%%\",\n",
    "                     figsize=(8,10),\n",
    "                     startangle=25, \n",
    "                     explode=explode, \n",
    "                     legend=True, \n",
    "                     colors=colors)\n",
    "\n",
    "plt.savefig(\"Main_output_images/Delhi_2017_Pi.png\")"
   ]
  },
  {
   "cell_type": "code",
   "execution_count": 57,
   "metadata": {},
   "outputs": [
    {
     "data": {
      "image/png": "[encoded data removed]",
      "text/plain": [
       "<Figure size 576x720 with 1 Axes>"
      ]
     },
     "metadata": {},
     "output_type": "display_data"
    }
   ],
   "source": [
    "# Kolkata 2017 Pieplot\n",
    "\n",
    "hist_kolkata_df = final_historical_df.loc[final_historical_df['City'] == 'Chennai']\n",
    "hist_kolkata_pie= hist_kolkata_df.groupby([\"Parameter\", \"Value\"])\n",
    "hist_kolkata_mean_plot = hist_kolkata_pie.Value.mean()\n",
    "explode = (0, 0.1, 0, 0)\n",
    "colors = ['skyblue', 'yellow', 'lightgreen', 'coral']\n",
    "\n",
    "kolkata_mean_plot.plot(kind=\"pie\", \n",
    "                       subplots=True, \n",
    "                       title=\"Air Pollutants in Kolkata on 22-June-2017\", \n",
    "                       autopct=\"%1.1f%%\",\n",
    "                       figsize=(8,10),\n",
    "                       startangle=25, \n",
    "                       explode=explode, \n",
    "                       legend=True, \n",
    "                       colors=colors)\n",
    "\n",
    "plt.savefig(\"Main_output_images/Kolkata_2017_Pi.png\")"
   ]
  },
  {
   "cell_type": "code",
   "execution_count": 58,
   "metadata": {},
   "outputs": [
    {
     "data": {
      "image/png": "[encoded data removed]",
      "text/plain": [
       "<Figure size 576x720 with 1 Axes>"
      ]
     },
     "metadata": {},
     "output_type": "display_data"
    }
   ],
   "source": [
    "# Mumbai 2017 Pieplot\n",
    "\n",
    "hist_mumbai_df = final_historical_df.loc[final_historical_df['City'] == 'Chennai']\n",
    "hist_mumbai_pie= hist_mumbai_df.groupby([\"Parameter\", \"Value\"])\n",
    "hist_mumbai_mean_plot = hist_mumbai_pie.Value.mean()\n",
    "explode = (0, 0.1, 0, 0)\n",
    "colors = ['skyblue', 'yellow', 'lightgreen', 'coral']\n",
    "\n",
    "mumbai_mean_plot.plot(kind=\"pie\", \n",
    "                      subplots=True, \n",
    "                      title=\"Air Pollutants in Mumbai on 22-June-2017\", \n",
    "                      autopct=\"%1.1f%%\",\n",
    "                      figsize=(8,10),\n",
    "                      startangle=25, \n",
    "                      explode=explode, \n",
    "                      legend=True, \n",
    "                      colors=colors)\n",
    "\n",
    "plt.savefig(\"Main_output_images/Mumbai_2017_Pi.png\")"
   ]
  },
  {
   "cell_type": "markdown",
   "metadata": {},
   "source": [
    "* Cross Sectional Analysis - Bar Chart"
   ]
  },
  {
   "cell_type": "code",
   "execution_count": 59,
   "metadata": {},
   "outputs": [
    {
     "data": {
      "text/html": [
       "<div>\n",
       "<style scoped>\n",
       "    .dataframe tbody tr th:only-of-type {\n",
       "        vertical-align: middle;\n",
       "    }\n",
       "\n",
       "    .dataframe tbody tr th {\n",
       "        vertical-align: top;\n",
       "    }\n",
       "\n",
       "    .dataframe thead th {\n",
       "        text-align: right;\n",
       "    }\n",
       "</style>\n",
       "<table border=\"1\" class=\"dataframe\">\n",
       "  <thead>\n",
       "    <tr style=\"text-align: right;\">\n",
       "      <th></th>\n",
       "      <th>Mean</th>\n",
       "    </tr>\n",
       "    <tr>\n",
       "      <th>City</th>\n",
       "      <th></th>\n",
       "    </tr>\n",
       "  </thead>\n",
       "  <tbody>\n",
       "    <tr>\n",
       "      <th>Chennai</th>\n",
       "      <td>460.65</td>\n",
       "    </tr>\n",
       "    <tr>\n",
       "      <th>Delhi</th>\n",
       "      <td>685.09</td>\n",
       "    </tr>\n",
       "    <tr>\n",
       "      <th>Kolkata</th>\n",
       "      <td>607.14</td>\n",
       "    </tr>\n",
       "    <tr>\n",
       "      <th>Mumbai</th>\n",
       "      <td>510.81</td>\n",
       "    </tr>\n",
       "  </tbody>\n",
       "</table>\n",
       "</div>"
      ],
      "text/plain": [
       "           Mean\n",
       "City           \n",
       "Chennai  460.65\n",
       "Delhi    685.09\n",
       "Kolkata  607.14\n",
       "Mumbai   510.81"
      ]
     },
     "execution_count": 59,
     "metadata": {},
     "output_type": "execute_result"
    }
   ],
   "source": [
    "# Average CO level per city 2017 stats\n",
    "\n",
    "hist_co = final_historical_df.loc[final_historical_df['Parameter'] == 'co']\n",
    "\n",
    "hist_grouped_cities_co = hist_co.groupby([\"City\"])\n",
    "\n",
    "hist_avg_value = round(hist_grouped_cities_co[\"Value\"].mean(),2)\n",
    "\n",
    "hist_citystats_co_df = pd.DataFrame({\"Mean\": hist_avg_value})\n",
    "\n",
    "hist_citystats_co_df.sort_values(\"City\", axis=0, ascending = True)"
   ]
  },
  {
   "cell_type": "code",
   "execution_count": 60,
   "metadata": {},
   "outputs": [
    {
     "data": {
      "image/png": "[encoded data removed]",
      "text/plain": [
       "<Figure size 504x504 with 1 Axes>"
      ]
     },
     "metadata": {
      "needs_background": "light"
     },
     "output_type": "display_data"
    }
   ],
   "source": [
    "# CO by city 2017 Barplot\n",
    "\n",
    "plt.figure(figsize=(7,7))\n",
    "\n",
    "hist_co_barplot = hist_citystats_co_df[\"Mean\"]\n",
    "plt.bar(hist_co_barplot.index.values, hist_co_barplot.values, \n",
    "        color=\"turquoise\",\n",
    "        align=\"center\", \n",
    "        width = 0.5)\n",
    "\n",
    "# Set a Title and labels\n",
    "plt.xlabel(\"Cities\")\n",
    "plt.xticks(rotation=45)\n",
    "plt.ylabel(\"Average level of CO\")\n",
    "plt.title(\"Carbon monoxide (CO) level per city - 2017\")\n",
    "plt.legend([\"2017 CO_Mean\"])\n",
    "\n",
    "# Set x and y limits\n",
    "plt.xlim(-0.5, 3.5)\n",
    "plt.ylim(0, 1100)\n",
    "\n",
    "plt.savefig(\"Main_output_images/CO_Mean_Hist2017_barplot.png\")"
   ]
  }
 ],
 "metadata": {
  "kernelspec": {
   "display_name": "Python 3",
   "language": "python",
   "name": "python3"
  },
  "language_info": {
   "codemirror_mode": {
    "name": "ipython",
    "version": 3
   },
   "file_extension": ".py",
   "mimetype": "text/x-python",
   "name": "python",
   "nbconvert_exporter": "python",
   "pygments_lexer": "ipython3",
   "version": "3.7.6"
  }
 },
 "nbformat": 4,
 "nbformat_minor": 4
}
