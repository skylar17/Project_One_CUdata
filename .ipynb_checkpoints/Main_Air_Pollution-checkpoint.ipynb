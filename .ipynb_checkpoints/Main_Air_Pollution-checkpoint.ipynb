{
 "cells": [
  {
   "cell_type": "markdown",
   "metadata": {
    "colab_type": "text",
    "id": "EOYo-tYOkrKw"
   },
   "source": [
    "# Analysis focuses on -\n",
    "\n",
    "- Country: India\n",
    "- Cities: Chennai, Delhi, Kolkata and Mumbai\n",
    "- Pollutants: co, so3, o3, n02\n",
    "- Date: June 22, 2020\n",
    "- Cross sectional: June 22, 2017"
   ]
  },
  {
   "cell_type": "code",
   "execution_count": 3,
   "metadata": {
    "colab": {},
    "colab_type": "code",
    "id": "ucR_I3iNjSkI"
   },
   "outputs": [],
   "source": [
    "#Dependencies\n",
    "import pandas as pd\n",
    "import numpy as np\n",
    "import matplotlib.pyplot as plt\n",
    "import time\n",
    "import io\n",
    "import os\n",
    "import csv"
   ]
  },
  {
   "cell_type": "code",
   "execution_count": 4,
   "metadata": {
    "colab": {
     "base_uri": "https://localhost:8080/",
     "height": 395
    },
    "colab_type": "code",
    "id": "Mb8ySGuzK0zq",
    "outputId": "38cfbfc0-0f2c-494f-b72e-d2ec7ca611df",
    "scrolled": true
   },
   "outputs": [],
   "source": [
    "# Setup Dataframe for each city from the data we retrieved from web\n",
    "chennai_df = pd.read_csv('Main_Data_Retrieval/Chennai_data.csv')\n",
    "delhi_df = pd.read_csv('Main_Data_Retrieval/Delhi_data.csv')\n",
    "kolkata_df = pd.read_csv('Main_Data_Retrieval/Kolkata_data.csv')\n",
    "mumbai_df = pd.read_csv('Main_Data_Retrieval/Mumbai_data.csv')"
   ]
  },
  {
   "cell_type": "code",
   "execution_count": 5,
   "metadata": {},
   "outputs": [],
   "source": [
    "#Drop pm25 and pm10 for all cities\n",
    "drop_parameter = [\"pm25\", \"pm10\"]\n",
    "\n",
    "final_chennai_df = chennai_df[chennai_df[\"parameter\"].isin(drop_parameter)==False]\n",
    "final_delhi_df = delhi_df[delhi_df[\"parameter\"].isin(drop_parameter)==False]\n",
    "final_kolkata_df = kolkata_df[kolkata_df[\"parameter\"].isin(drop_parameter)==False]\n",
    "final_mumbai_df = mumbai_df[mumbai_df[\"parameter\"].isin(drop_parameter)==False]"
   ]
  },
  {
   "cell_type": "code",
   "execution_count": 6,
   "metadata": {},
   "outputs": [
    {
     "data": {
      "text/html": [
       "<div>\n",
       "<style scoped>\n",
       "    .dataframe tbody tr th:only-of-type {\n",
       "        vertical-align: middle;\n",
       "    }\n",
       "\n",
       "    .dataframe tbody tr th {\n",
       "        vertical-align: top;\n",
       "    }\n",
       "\n",
       "    .dataframe thead th {\n",
       "        text-align: right;\n",
       "    }\n",
       "</style>\n",
       "<table border=\"1\" class=\"dataframe\">\n",
       "  <thead>\n",
       "    <tr style=\"text-align: right;\">\n",
       "      <th></th>\n",
       "      <th>Unnamed: 0</th>\n",
       "      <th>location</th>\n",
       "      <th>city</th>\n",
       "      <th>country</th>\n",
       "      <th>utc</th>\n",
       "      <th>local</th>\n",
       "      <th>parameter</th>\n",
       "      <th>value</th>\n",
       "      <th>unit</th>\n",
       "      <th>latitude</th>\n",
       "      <th>longitude</th>\n",
       "      <th>attribution</th>\n",
       "    </tr>\n",
       "  </thead>\n",
       "  <tbody>\n",
       "    <tr>\n",
       "      <th>0</th>\n",
       "      <td>0</td>\n",
       "      <td>Velachery Res. Area, Chennai - CPCB</td>\n",
       "      <td>Chennai</td>\n",
       "      <td>IN</td>\n",
       "      <td>2020-06-22T23:30:00.000Z</td>\n",
       "      <td>2020-06-23T05:00:00+05:30</td>\n",
       "      <td>no2</td>\n",
       "      <td>3.27</td>\n",
       "      <td>µg/m³</td>\n",
       "      <td>13.005219</td>\n",
       "      <td>80.239812</td>\n",
       "      <td>[{\"name\":\"Central Pollution Control Board\",\"ur...</td>\n",
       "    </tr>\n",
       "    <tr>\n",
       "      <th>1</th>\n",
       "      <td>1</td>\n",
       "      <td>Velachery Res. Area, Chennai - CPCB</td>\n",
       "      <td>Chennai</td>\n",
       "      <td>IN</td>\n",
       "      <td>2020-06-22T23:30:00.000Z</td>\n",
       "      <td>2020-06-23T05:00:00+05:30</td>\n",
       "      <td>so2</td>\n",
       "      <td>3.85</td>\n",
       "      <td>µg/m³</td>\n",
       "      <td>13.005219</td>\n",
       "      <td>80.239812</td>\n",
       "      <td>[{\"name\":\"Central Pollution Control Board\",\"ur...</td>\n",
       "    </tr>\n",
       "    <tr>\n",
       "      <th>2</th>\n",
       "      <td>2</td>\n",
       "      <td>Velachery Res. Area, Chennai - CPCB</td>\n",
       "      <td>Chennai</td>\n",
       "      <td>IN</td>\n",
       "      <td>2020-06-22T23:30:00.000Z</td>\n",
       "      <td>2020-06-23T05:00:00+05:30</td>\n",
       "      <td>o3</td>\n",
       "      <td>0.00</td>\n",
       "      <td>µg/m³</td>\n",
       "      <td>13.005219</td>\n",
       "      <td>80.239812</td>\n",
       "      <td>[{\"name\":\"Central Pollution Control Board\",\"ur...</td>\n",
       "    </tr>\n",
       "    <tr>\n",
       "      <th>3</th>\n",
       "      <td>3</td>\n",
       "      <td>Velachery Res. Area, Chennai - CPCB</td>\n",
       "      <td>Chennai</td>\n",
       "      <td>IN</td>\n",
       "      <td>2020-06-22T23:30:00.000Z</td>\n",
       "      <td>2020-06-23T05:00:00+05:30</td>\n",
       "      <td>co</td>\n",
       "      <td>1010.00</td>\n",
       "      <td>µg/m³</td>\n",
       "      <td>13.005219</td>\n",
       "      <td>80.239812</td>\n",
       "      <td>[{\"name\":\"Central Pollution Control Board\",\"ur...</td>\n",
       "    </tr>\n",
       "    <tr>\n",
       "      <th>5</th>\n",
       "      <td>5</td>\n",
       "      <td>Velachery Res. Area, Chennai - CPCB</td>\n",
       "      <td>Chennai</td>\n",
       "      <td>IN</td>\n",
       "      <td>2020-06-22T23:00:00.000Z</td>\n",
       "      <td>2020-06-23T04:30:00+05:30</td>\n",
       "      <td>no2</td>\n",
       "      <td>1.66</td>\n",
       "      <td>µg/m³</td>\n",
       "      <td>13.005219</td>\n",
       "      <td>80.239812</td>\n",
       "      <td>[{\"name\":\"Central Pollution Control Board\",\"ur...</td>\n",
       "    </tr>\n",
       "  </tbody>\n",
       "</table>\n",
       "</div>"
      ],
      "text/plain": [
       "   Unnamed: 0                             location     city country  \\\n",
       "0           0  Velachery Res. Area, Chennai - CPCB  Chennai      IN   \n",
       "1           1  Velachery Res. Area, Chennai - CPCB  Chennai      IN   \n",
       "2           2  Velachery Res. Area, Chennai - CPCB  Chennai      IN   \n",
       "3           3  Velachery Res. Area, Chennai - CPCB  Chennai      IN   \n",
       "5           5  Velachery Res. Area, Chennai - CPCB  Chennai      IN   \n",
       "\n",
       "                        utc                      local parameter    value  \\\n",
       "0  2020-06-22T23:30:00.000Z  2020-06-23T05:00:00+05:30       no2     3.27   \n",
       "1  2020-06-22T23:30:00.000Z  2020-06-23T05:00:00+05:30       so2     3.85   \n",
       "2  2020-06-22T23:30:00.000Z  2020-06-23T05:00:00+05:30        o3     0.00   \n",
       "3  2020-06-22T23:30:00.000Z  2020-06-23T05:00:00+05:30        co  1010.00   \n",
       "5  2020-06-22T23:00:00.000Z  2020-06-23T04:30:00+05:30       no2     1.66   \n",
       "\n",
       "    unit   latitude  longitude  \\\n",
       "0  µg/m³  13.005219  80.239812   \n",
       "1  µg/m³  13.005219  80.239812   \n",
       "2  µg/m³  13.005219  80.239812   \n",
       "3  µg/m³  13.005219  80.239812   \n",
       "5  µg/m³  13.005219  80.239812   \n",
       "\n",
       "                                         attribution  \n",
       "0  [{\"name\":\"Central Pollution Control Board\",\"ur...  \n",
       "1  [{\"name\":\"Central Pollution Control Board\",\"ur...  \n",
       "2  [{\"name\":\"Central Pollution Control Board\",\"ur...  \n",
       "3  [{\"name\":\"Central Pollution Control Board\",\"ur...  \n",
       "5  [{\"name\":\"Central Pollution Control Board\",\"ur...  "
      ]
     },
     "execution_count": 6,
     "metadata": {},
     "output_type": "execute_result"
    }
   ],
   "source": [
    "#Combined the data for each city in a single file\n",
    "dfs = [final_chennai_df, final_delhi_df, final_kolkata_df, final_mumbai_df]\n",
    "complete_city_df = pd.concat(dfs)\n",
    "complete_city_df.head()"
   ]
  },
  {
   "cell_type": "code",
   "execution_count": 7,
   "metadata": {},
   "outputs": [
    {
     "data": {
      "text/html": [
       "<div>\n",
       "<style scoped>\n",
       "    .dataframe tbody tr th:only-of-type {\n",
       "        vertical-align: middle;\n",
       "    }\n",
       "\n",
       "    .dataframe tbody tr th {\n",
       "        vertical-align: top;\n",
       "    }\n",
       "\n",
       "    .dataframe thead th {\n",
       "        text-align: right;\n",
       "    }\n",
       "</style>\n",
       "<table border=\"1\" class=\"dataframe\">\n",
       "  <thead>\n",
       "    <tr style=\"text-align: right;\">\n",
       "      <th></th>\n",
       "      <th>location</th>\n",
       "      <th>city</th>\n",
       "      <th>utc</th>\n",
       "      <th>local</th>\n",
       "      <th>parameter</th>\n",
       "      <th>value</th>\n",
       "      <th>latitude</th>\n",
       "      <th>longitude</th>\n",
       "    </tr>\n",
       "  </thead>\n",
       "  <tbody>\n",
       "    <tr>\n",
       "      <th>0</th>\n",
       "      <td>Velachery Res. Area, Chennai - CPCB</td>\n",
       "      <td>Chennai</td>\n",
       "      <td>2020-06-22T23:30:00.000Z</td>\n",
       "      <td>2020-06-23T05:00:00+05:30</td>\n",
       "      <td>no2</td>\n",
       "      <td>3.27</td>\n",
       "      <td>13.005219</td>\n",
       "      <td>80.239812</td>\n",
       "    </tr>\n",
       "    <tr>\n",
       "      <th>1</th>\n",
       "      <td>Velachery Res. Area, Chennai - CPCB</td>\n",
       "      <td>Chennai</td>\n",
       "      <td>2020-06-22T23:30:00.000Z</td>\n",
       "      <td>2020-06-23T05:00:00+05:30</td>\n",
       "      <td>so2</td>\n",
       "      <td>3.85</td>\n",
       "      <td>13.005219</td>\n",
       "      <td>80.239812</td>\n",
       "    </tr>\n",
       "    <tr>\n",
       "      <th>2</th>\n",
       "      <td>Velachery Res. Area, Chennai - CPCB</td>\n",
       "      <td>Chennai</td>\n",
       "      <td>2020-06-22T23:30:00.000Z</td>\n",
       "      <td>2020-06-23T05:00:00+05:30</td>\n",
       "      <td>o3</td>\n",
       "      <td>0.00</td>\n",
       "      <td>13.005219</td>\n",
       "      <td>80.239812</td>\n",
       "    </tr>\n",
       "    <tr>\n",
       "      <th>3</th>\n",
       "      <td>Velachery Res. Area, Chennai - CPCB</td>\n",
       "      <td>Chennai</td>\n",
       "      <td>2020-06-22T23:30:00.000Z</td>\n",
       "      <td>2020-06-23T05:00:00+05:30</td>\n",
       "      <td>co</td>\n",
       "      <td>1010.00</td>\n",
       "      <td>13.005219</td>\n",
       "      <td>80.239812</td>\n",
       "    </tr>\n",
       "    <tr>\n",
       "      <th>5</th>\n",
       "      <td>Velachery Res. Area, Chennai - CPCB</td>\n",
       "      <td>Chennai</td>\n",
       "      <td>2020-06-22T23:00:00.000Z</td>\n",
       "      <td>2020-06-23T04:30:00+05:30</td>\n",
       "      <td>no2</td>\n",
       "      <td>1.66</td>\n",
       "      <td>13.005219</td>\n",
       "      <td>80.239812</td>\n",
       "    </tr>\n",
       "  </tbody>\n",
       "</table>\n",
       "</div>"
      ],
      "text/plain": [
       "                              location     city                       utc  \\\n",
       "0  Velachery Res. Area, Chennai - CPCB  Chennai  2020-06-22T23:30:00.000Z   \n",
       "1  Velachery Res. Area, Chennai - CPCB  Chennai  2020-06-22T23:30:00.000Z   \n",
       "2  Velachery Res. Area, Chennai - CPCB  Chennai  2020-06-22T23:30:00.000Z   \n",
       "3  Velachery Res. Area, Chennai - CPCB  Chennai  2020-06-22T23:30:00.000Z   \n",
       "5  Velachery Res. Area, Chennai - CPCB  Chennai  2020-06-22T23:00:00.000Z   \n",
       "\n",
       "                       local parameter    value   latitude  longitude  \n",
       "0  2020-06-23T05:00:00+05:30       no2     3.27  13.005219  80.239812  \n",
       "1  2020-06-23T05:00:00+05:30       so2     3.85  13.005219  80.239812  \n",
       "2  2020-06-23T05:00:00+05:30        o3     0.00  13.005219  80.239812  \n",
       "3  2020-06-23T05:00:00+05:30        co  1010.00  13.005219  80.239812  \n",
       "5  2020-06-23T04:30:00+05:30       no2     1.66  13.005219  80.239812  "
      ]
     },
     "execution_count": 7,
     "metadata": {},
     "output_type": "execute_result"
    }
   ],
   "source": [
    "#Clean dataset by dropping various columns\n",
    "final_df = complete_city_df.drop([\"country\",\"attribution\",\"unit\", \"Unnamed: 0\"], axis=1)\n",
    "final_df.head()"
   ]
  },
  {
   "cell_type": "code",
   "execution_count": 8,
   "metadata": {},
   "outputs": [],
   "source": [
    "#final_df['utc'] =  pd.to_datetime(final_df['utc'], format='%Y-%m-%dT%H:%M:%S-%Z')"
   ]
  },
  {
   "cell_type": "markdown",
   "metadata": {
    "colab_type": "text",
    "id": "NlBjmHXHQhPm"
   },
   "source": [
    "Test Dataframe with header "
   ]
  },
  {
   "cell_type": "markdown",
   "metadata": {
    "colab_type": "text",
    "id": "DVi0Izii5gi3"
   },
   "source": [
    "Summary Table - \n",
    "**Cities:** Chennai, Delhi, Kolkota, Mumbai\n",
    "\n",
    "*   **Cities:** Chennai, Delhi, Kolkota, Mumbai\n",
    "*   **Statistical Distributions:**\n",
    "Mean, Median, Range, Stvd, SEM, IQR \n",
    "*   **Pollutants (values)**: CO\n",
    "\n",
    "\n",
    "* **Cross Sectional Dates: *** PreCOVID 2017 - EX: 6/22/2017\n",
    "COVID Present - EX: 6/22/2020\n",
    "\n",
    "\n",
    "\n",
    "\n",
    "\n",
    "\n"
   ]
  },
  {
   "cell_type": "code",
   "execution_count": 9,
   "metadata": {},
   "outputs": [
    {
     "data": {
      "text/html": [
       "<div>\n",
       "<style scoped>\n",
       "    .dataframe tbody tr th:only-of-type {\n",
       "        vertical-align: middle;\n",
       "    }\n",
       "\n",
       "    .dataframe tbody tr th {\n",
       "        vertical-align: top;\n",
       "    }\n",
       "\n",
       "    .dataframe thead th {\n",
       "        text-align: right;\n",
       "    }\n",
       "</style>\n",
       "<table border=\"1\" class=\"dataframe\">\n",
       "  <thead>\n",
       "    <tr style=\"text-align: right;\">\n",
       "      <th></th>\n",
       "      <th>location</th>\n",
       "      <th>city</th>\n",
       "      <th>utc</th>\n",
       "      <th>local</th>\n",
       "      <th>parameter</th>\n",
       "      <th>value</th>\n",
       "      <th>latitude</th>\n",
       "      <th>longitude</th>\n",
       "    </tr>\n",
       "  </thead>\n",
       "  <tbody>\n",
       "    <tr>\n",
       "      <th>3</th>\n",
       "      <td>Velachery Res. Area, Chennai - CPCB</td>\n",
       "      <td>Chennai</td>\n",
       "      <td>2020-06-22T23:30:00.000Z</td>\n",
       "      <td>2020-06-23T05:00:00+05:30</td>\n",
       "      <td>co</td>\n",
       "      <td>1010.0</td>\n",
       "      <td>13.005219</td>\n",
       "      <td>80.239812</td>\n",
       "    </tr>\n",
       "    <tr>\n",
       "      <th>6</th>\n",
       "      <td>Velachery Res. Area, Chennai - CPCB</td>\n",
       "      <td>Chennai</td>\n",
       "      <td>2020-06-22T23:00:00.000Z</td>\n",
       "      <td>2020-06-23T04:30:00+05:30</td>\n",
       "      <td>co</td>\n",
       "      <td>1250.0</td>\n",
       "      <td>13.005219</td>\n",
       "      <td>80.239812</td>\n",
       "    </tr>\n",
       "    <tr>\n",
       "      <th>12</th>\n",
       "      <td>Velachery Res. Area, Chennai - CPCB</td>\n",
       "      <td>Chennai</td>\n",
       "      <td>2020-06-22T22:45:00.000Z</td>\n",
       "      <td>2020-06-23T04:15:00+05:30</td>\n",
       "      <td>co</td>\n",
       "      <td>1170.0</td>\n",
       "      <td>13.005219</td>\n",
       "      <td>80.239812</td>\n",
       "    </tr>\n",
       "    <tr>\n",
       "      <th>15</th>\n",
       "      <td>Velachery Res. Area, Chennai - CPCB</td>\n",
       "      <td>Chennai</td>\n",
       "      <td>2020-06-22T22:30:00.000Z</td>\n",
       "      <td>2020-06-23T04:00:00+05:30</td>\n",
       "      <td>co</td>\n",
       "      <td>1140.0</td>\n",
       "      <td>13.005219</td>\n",
       "      <td>80.239812</td>\n",
       "    </tr>\n",
       "    <tr>\n",
       "      <th>22</th>\n",
       "      <td>Velachery Res. Area, Chennai - CPCB</td>\n",
       "      <td>Chennai</td>\n",
       "      <td>2020-06-22T21:15:00.000Z</td>\n",
       "      <td>2020-06-23T02:45:00+05:30</td>\n",
       "      <td>co</td>\n",
       "      <td>1140.0</td>\n",
       "      <td>13.005219</td>\n",
       "      <td>80.239812</td>\n",
       "    </tr>\n",
       "  </tbody>\n",
       "</table>\n",
       "</div>"
      ],
      "text/plain": [
       "                               location     city                       utc  \\\n",
       "3   Velachery Res. Area, Chennai - CPCB  Chennai  2020-06-22T23:30:00.000Z   \n",
       "6   Velachery Res. Area, Chennai - CPCB  Chennai  2020-06-22T23:00:00.000Z   \n",
       "12  Velachery Res. Area, Chennai - CPCB  Chennai  2020-06-22T22:45:00.000Z   \n",
       "15  Velachery Res. Area, Chennai - CPCB  Chennai  2020-06-22T22:30:00.000Z   \n",
       "22  Velachery Res. Area, Chennai - CPCB  Chennai  2020-06-22T21:15:00.000Z   \n",
       "\n",
       "                        local parameter   value   latitude  longitude  \n",
       "3   2020-06-23T05:00:00+05:30        co  1010.0  13.005219  80.239812  \n",
       "6   2020-06-23T04:30:00+05:30        co  1250.0  13.005219  80.239812  \n",
       "12  2020-06-23T04:15:00+05:30        co  1170.0  13.005219  80.239812  \n",
       "15  2020-06-23T04:00:00+05:30        co  1140.0  13.005219  80.239812  \n",
       "22  2020-06-23T02:45:00+05:30        co  1140.0  13.005219  80.239812  "
      ]
     },
     "execution_count": 9,
     "metadata": {},
     "output_type": "execute_result"
    }
   ],
   "source": [
    "df_co = final_df.loc[final_df['parameter'] == 'co']\n",
    "df_co.head()"
   ]
  },
  {
   "cell_type": "code",
   "execution_count": 10,
   "metadata": {
    "colab": {},
    "colab_type": "code",
    "id": "LcrISVpx5nbM",
    "scrolled": true
   },
   "outputs": [
    {
     "data": {
      "text/html": [
       "<div>\n",
       "<style scoped>\n",
       "    .dataframe tbody tr th:only-of-type {\n",
       "        vertical-align: middle;\n",
       "    }\n",
       "\n",
       "    .dataframe tbody tr th {\n",
       "        vertical-align: top;\n",
       "    }\n",
       "\n",
       "    .dataframe thead th {\n",
       "        text-align: right;\n",
       "    }\n",
       "</style>\n",
       "<table border=\"1\" class=\"dataframe\">\n",
       "  <thead>\n",
       "    <tr style=\"text-align: right;\">\n",
       "      <th></th>\n",
       "      <th>Mean</th>\n",
       "      <th>Median</th>\n",
       "      <th>Standard Deviation</th>\n",
       "      <th>Variance</th>\n",
       "      <th>SEM</th>\n",
       "    </tr>\n",
       "    <tr>\n",
       "      <th>city</th>\n",
       "      <th></th>\n",
       "      <th></th>\n",
       "      <th></th>\n",
       "      <th></th>\n",
       "      <th></th>\n",
       "    </tr>\n",
       "  </thead>\n",
       "  <tbody>\n",
       "    <tr>\n",
       "      <th>Chennai</th>\n",
       "      <td>1007.00</td>\n",
       "      <td>990.0</td>\n",
       "      <td>120.40</td>\n",
       "      <td>14495.79</td>\n",
       "      <td>26.92</td>\n",
       "    </tr>\n",
       "    <tr>\n",
       "      <th>Delhi</th>\n",
       "      <td>664.33</td>\n",
       "      <td>440.0</td>\n",
       "      <td>376.05</td>\n",
       "      <td>141411.61</td>\n",
       "      <td>68.66</td>\n",
       "    </tr>\n",
       "    <tr>\n",
       "      <th>Kolkata</th>\n",
       "      <td>263.64</td>\n",
       "      <td>260.0</td>\n",
       "      <td>38.86</td>\n",
       "      <td>1509.96</td>\n",
       "      <td>8.28</td>\n",
       "    </tr>\n",
       "    <tr>\n",
       "      <th>Mumbai</th>\n",
       "      <td>420.56</td>\n",
       "      <td>420.0</td>\n",
       "      <td>87.21</td>\n",
       "      <td>7605.56</td>\n",
       "      <td>20.56</td>\n",
       "    </tr>\n",
       "  </tbody>\n",
       "</table>\n",
       "</div>"
      ],
      "text/plain": [
       "            Mean  Median  Standard Deviation   Variance    SEM\n",
       "city                                                          \n",
       "Chennai  1007.00   990.0              120.40   14495.79  26.92\n",
       "Delhi     664.33   440.0              376.05  141411.61  68.66\n",
       "Kolkata   263.64   260.0               38.86    1509.96   8.28\n",
       "Mumbai    420.56   420.0               87.21    7605.56  20.56"
      ]
     },
     "execution_count": 10,
     "metadata": {},
     "output_type": "execute_result"
    }
   ],
   "source": [
    " # If the data is in a dataframe, we use pandas to give quartile calculations pm25\n",
    "\n",
    "grouped_cities_co_df = df_co.groupby([\"city\"])\n",
    "# grouped_cities_df.head()\n",
    "\n",
    "avg_value = grouped_cities_co_df[\"value\"].mean()\n",
    "\n",
    "median_value = grouped_cities_co_df[\"value\"].median()\n",
    "# median_value.head()\n",
    "\n",
    "var_value = grouped_cities_co_df[\"value\"].var()\n",
    "# var_value.head()\n",
    "std_value = grouped_cities_co_df[\"value\"].std()\n",
    "# std_value.head()\n",
    "sem_value = grouped_cities_co_df[\"value\"].sem()\n",
    "# sem_value.head()\n",
    " \n",
    "citystats_co_df = pd.DataFrame({\"Mean\": round(avg_value,2), \n",
    "                                \"Median\": round(median_value,2),\n",
    "                                \"Standard Deviation\": round(std_value,2), \n",
    "                                \"Variance\": round(var_value,2), \n",
    "                                \"SEM\": round(sem_value,2)})\n",
    "\n",
    "citystats_co_df.sort_values(\"city\", axis=0, ascending = True)\n"
   ]
  },
  {
   "cell_type": "code",
   "execution_count": 11,
   "metadata": {},
   "outputs": [
    {
     "data": {
      "image/png": "[encoded data removed]",
      "text/plain": [
       "<Figure size 504x504 with 1 Axes>"
      ]
     },
     "metadata": {
      "needs_background": "light"
     },
     "output_type": "display_data"
    }
   ],
   "source": [
    "plt.figure(figsize=(7,7))\n",
    "\n",
    "co_barplot = citystats_co_df[\"Mean\"]\n",
    "plt.bar(co_barplot.index.values, co_barplot.values, \n",
    "        color=\"teal\",\n",
    "        align=\"center\", \n",
    "        width = 0.5)\n",
    "\n",
    "# Set a Title and labels\n",
    "plt.xlabel(\"Cities\")\n",
    "plt.xticks(rotation=45)\n",
    "plt.ylabel(\"Average level of CO\")\n",
    "plt.title(\"Carbon monoxide (CO) level per city - 2020\")\n",
    "plt.legend([\"2020 CO_Mean\"])\n",
    "\n",
    "# Set x and y limits\n",
    "plt.xlim(-0.5, 3.5)\n",
    "plt.ylim(0, 1100)\n",
    "\n",
    "plt.savefig(\"Main_output_images/CO_Mean_2020_barplot.png\")"
   ]
  },
  {
   "cell_type": "markdown",
   "metadata": {},
   "source": [
    "Calculate IQR for prep Box Plot "
   ]
  },
  {
   "cell_type": "code",
   "execution_count": 12,
   "metadata": {},
   "outputs": [
    {
     "name": "stdout",
     "output_type": "stream",
     "text": [
      "The lower quartile of co for Chennai is: 930.0\n",
      "The upper quartile of co for Chennai is: 1095.0\n",
      "The interquartile range of co for Chennai is: 165.0\n",
      "The the median of pm25 is: 990.0 \n",
      "Chennai - values below 682.5 could be outliers.\n",
      "Chennai - values above 1342.5 could be outliers.\n",
      "The lower quartile of co for Delhi is is: 372.5\n",
      "The upper quartile of co for Delhi is is: 1072.5\n",
      "The interquartile range of co for Delhi is is: 700.0\n",
      "The the median of co for Delhi is: 440.0 \n",
      "Delhi - values below -677.5 could be outliers.\n",
      "Delhi - values above 2122.5 could be outliers.\n",
      "The lower quartile of co for Kolkata is: 260.0\n",
      "The upper quartile of co for Kolkata: 287.5\n",
      "The interquartile range of co for Kolkata is: 27.5\n",
      "The the median of co for Kolkata is: 260.0 \n",
      "Kolkata - values below 218.75 could be outliers.\n",
      "Kolkata - values above 328.75 could be outliers.\n",
      "The lower quartile of co for Mumbai is: 352.5\n",
      "The upper quartile of co for Mumbai is: 497.5\n",
      "The interquartile range of co for Mumbai is: 145.0\n",
      "The the median of co for Mumbai is: 420.0 \n",
      "Mumbai - values below 135.0 could be outliers.\n",
      "Mumbai - values above 715.0 could be outliers.\n"
     ]
    }
   ],
   "source": [
    "#  IQR Min, Median, Max\n",
    "# chennai \n",
    "df_co_chennai = chennai_df.loc[chennai_df['parameter'] == 'co']\n",
    "df_co_chennai.head()\n",
    "\n",
    "quartiles = df_co_chennai['value'].quantile([.25,.5,.75])\n",
    "lowerq = quartiles[0.25]\n",
    "upperq = quartiles[0.75]\n",
    "iqr = upperq-lowerq\n",
    "\n",
    "print(f\"The lower quartile of co for Chennai is: {lowerq}\")\n",
    "print(f\"The upper quartile of co for Chennai is: {upperq}\")\n",
    "print(f\"The interquartile range of co for Chennai is: {iqr}\")\n",
    "print(f\"The the median of pm25 is: {quartiles[0.5]} \")\n",
    "\n",
    "lower_bound = lowerq - (1.5*iqr)\n",
    "upper_bound = upperq + (1.5*iqr)\n",
    "print(f\"Chennai - values below {lower_bound} could be outliers.\")\n",
    "print(f\"Chennai - values above {upper_bound} could be outliers.\")\n",
    "\n",
    "#  delhi\n",
    "df_co_delhi = delhi_df.loc[delhi_df['parameter'] == 'co']\n",
    "df_co_delhi.head()\n",
    "\n",
    "quartiles = df_co_delhi['value'].quantile([.25,.5,.75])\n",
    "lowerq = quartiles[0.25]\n",
    "upperq = quartiles[0.75]\n",
    "iqr = upperq-lowerq\n",
    "\n",
    "print(f\"The lower quartile of co for Delhi is is: {lowerq}\")\n",
    "print(f\"The upper quartile of co for Delhi is is: {upperq}\")\n",
    "print(f\"The interquartile range of co for Delhi is is: {iqr}\")\n",
    "print(f\"The the median of co for Delhi is: {quartiles[0.5]} \")\n",
    "\n",
    "lower_bound = lowerq - (1.5*iqr)\n",
    "upper_bound = upperq + (1.5*iqr)\n",
    "print(f\"Delhi - values below {lower_bound} could be outliers.\")\n",
    "print(f\"Delhi - values above {upper_bound} could be outliers.\")\n",
    "\n",
    "# kolkata\n",
    "df_co_kolkata = kolkata_df.loc[kolkata_df['parameter'] == 'co']\n",
    "df_co_kolkata.head()\n",
    "\n",
    "quartiles = df_co_kolkata['value'].quantile([.25,.5,.75])\n",
    "lowerq = quartiles[0.25]\n",
    "upperq = quartiles[0.75]\n",
    "iqr = upperq-lowerq\n",
    "\n",
    "print(f\"The lower quartile of co for Kolkata is: {lowerq}\")\n",
    "print(f\"The upper quartile of co for Kolkata: {upperq}\")\n",
    "print(f\"The interquartile range of co for Kolkata is: {iqr}\")\n",
    "print(f\"The the median of co for Kolkata is: {quartiles[0.5]} \")\n",
    "\n",
    "lower_bound = lowerq - (1.5*iqr)\n",
    "upper_bound = upperq + (1.5*iqr)\n",
    "print(f\"Kolkata - values below {lower_bound} could be outliers.\")\n",
    "print(f\"Kolkata - values above {upper_bound} could be outliers.\")\n",
    "\n",
    "#  mummbai \n",
    "df_co_mumbai = mumbai_df.loc[mumbai_df['parameter'] == 'co']\n",
    "df_co_mumbai.head()\n",
    "\n",
    "quartiles = df_co_mumbai['value'].quantile([.25,.5,.75])\n",
    "lowerq = quartiles[0.25]\n",
    "upperq = quartiles[0.75]\n",
    "iqr = upperq-lowerq\n",
    "\n",
    "print(f\"The lower quartile of co for Mumbai is: {lowerq}\")\n",
    "print(f\"The upper quartile of co for Mumbai is: {upperq}\")\n",
    "print(f\"The interquartile range of co for Mumbai is: {iqr}\")\n",
    "print(f\"The the median of co for Mumbai is: {quartiles[0.5]} \")\n",
    "\n",
    "lower_bound = lowerq - (1.5*iqr)\n",
    "upper_bound = upperq + (1.5*iqr)\n",
    "print(f\"Mumbai - values below {lower_bound} could be outliers.\")\n",
    "print(f\"Mumbai - values above {upper_bound} could be outliers.\")\n",
    "\n"
   ]
  },
  {
   "cell_type": "code",
   "execution_count": 13,
   "metadata": {},
   "outputs": [
    {
     "data": {
      "text/plain": [
       "<Figure size 936x648 with 0 Axes>"
      ]
     },
     "metadata": {},
     "output_type": "display_data"
    },
    {
     "data": {
      "image/png": "[encoded data removed]",
      "text/plain": [
       "<Figure size 648x648 with 1 Axes>"
      ]
     },
     "metadata": {
      "needs_background": "light"
     },
     "output_type": "display_data"
    }
   ],
   "source": [
    "plt.figure(figsize=(13, 9))\n",
    "plt.subplots(figsize=(9, 9))\n",
    "\n",
    "#Create a list to use as labels and dataframe\n",
    "ALL_FOUR = [\"Chennai\", \"Delhi\", \"Kolkata\", \"Mumbai\"]\n",
    "flierprops = dict(marker='d', markeredgecolor='k', markerfacecolor= \"r\")\n",
    "\n",
    "\n",
    "# Title and Labels         \n",
    "plt.boxplot([df_co_chennai[\"value\"], df_co_delhi[\"value\"], df_co_kolkata[\"value\"], df_co_mumbai[\"value\"]], \n",
    "            flierprops=flierprops, \n",
    "            labels= ALL_FOUR)\n",
    "\n",
    "\n",
    "plt.title(\"Comparison of CO Levels in Each City\", fontweight= \"bold\")\n",
    "plt.xlabel(\"Cities\", fontweight= \"bold\")\n",
    "plt.ylabel(\"CO Value\", fontweight= \"bold\")\n",
    "\n",
    "plt.ylim(0, 2000)\n",
    "\n",
    "plt.savefig(\"Main_output_images/CO_BoxPlot.png\")\n",
    "\n",
    "plt.show()"
   ]
  },
  {
   "cell_type": "markdown",
   "metadata": {
    "colab_type": "text",
    "id": "HFIOytlk5nnu"
   },
   "source": [
    "* Box Plot of CO (y-axis) in each city (x-axis) on 6/22/2020 "
   ]
  },
  {
   "cell_type": "markdown",
   "metadata": {
    "colab_type": "text",
    "id": "8BHWaih551aZ"
   },
   "source": [
    "* Pie Chart the average pollutants (NO2, SO2, CO, O3 ) in each city"
   ]
  },
  {
   "cell_type": "code",
   "execution_count": 14,
   "metadata": {},
   "outputs": [
    {
     "data": {
      "image/png": "[encoded data removed]",
      "text/plain": [
       "<Figure size 576x720 with 1 Axes>"
      ]
     },
     "metadata": {},
     "output_type": "display_data"
    }
   ],
   "source": [
    "chennai_pie = final_chennai_df.groupby([\"parameter\"])\n",
    "chennai_mean_plot = chennai_pie.value.mean()\n",
    "\n",
    "explode = (0, 0.1, 0, 0)\n",
    "chennai_mean_plot.plot(kind=\"pie\", \n",
    "                       subplots=True, \n",
    "                       title=\"Air Pollutants in Chennai on 22-June-2020\", \n",
    "                       autopct=\"%1.1f%%\",\n",
    "                       figsize=(8,10),\n",
    "                       startangle=25,\n",
    "                       explode=explode,\n",
    "                       legend=True)\n",
    "\n",
    "plt.savefig(\"Main_output_images/Chennai_2020_Pi.png\")"
   ]
  },
  {
   "cell_type": "code",
   "execution_count": 15,
   "metadata": {},
   "outputs": [
    {
     "data": {
      "image/png": "[encoded data removed]",
      "text/plain": [
       "<Figure size 576x720 with 1 Axes>"
      ]
     },
     "metadata": {},
     "output_type": "display_data"
    }
   ],
   "source": [
    "delhi_pie = final_delhi_df.groupby([\"parameter\"])\n",
    "delhi_mean_plot = delhi_pie.value.mean()\n",
    "explode = (0, 0.1, 0, 0)\n",
    "delhi_mean_plot.plot(kind=\"pie\", \n",
    "                     subplots=True, \n",
    "                     title=\"Air Pollutants in Delhi on 22-June-2020\",\n",
    "                     startangle=25,\n",
    "                     autopct=\"%1.1f%%\", \n",
    "                     figsize=(8,10), \n",
    "                     explode=explode, \n",
    "                     legend=True)\n",
    "\n",
    "plt.savefig(\"Main_output_images/Delhi_2020_Pi.png\")"
   ]
  },
  {
   "cell_type": "code",
   "execution_count": 16,
   "metadata": {},
   "outputs": [
    {
     "data": {
      "image/png": "[encoded data removed]",
      "text/plain": [
       "<Figure size 576x720 with 1 Axes>"
      ]
     },
     "metadata": {},
     "output_type": "display_data"
    }
   ],
   "source": [
    "kolkata_pie = final_kolkata_df.groupby([\"parameter\"])\n",
    "kolkata_mean_plot = kolkata_pie.value.mean()\n",
    "explode = (0, 0.1, 0, 0)\n",
    "kolkata_mean_plot.plot(kind=\"pie\", \n",
    "                       subplots=True, \n",
    "                       title=\"Air Pollutants in Kolkata on 22-June-2020\", \n",
    "                       startangle=25,\n",
    "                       autopct=\"%1.1f%%\",\n",
    "                       figsize=(8,10), \n",
    "                       explode=explode, \n",
    "                       legend=True)\n",
    "\n",
    "plt.savefig(\"Main_output_images/Kolkata_2020_Pi.png\")"
   ]
  },
  {
   "cell_type": "code",
   "execution_count": 17,
   "metadata": {},
   "outputs": [
    {
     "data": {
      "image/png": "[encoded data removed]",
      "text/plain": [
       "<Figure size 576x720 with 1 Axes>"
      ]
     },
     "metadata": {},
     "output_type": "display_data"
    }
   ],
   "source": [
    "mumbai_pie = final_mumbai_df.groupby([\"parameter\"])\n",
    "mumbai_mean_plot = mumbai_pie.value.mean()\n",
    "explode = (0, 0.1, 0, 0)\n",
    "mumbai_mean_plot.plot(kind=\"pie\", \n",
    "                      subplots=True, \n",
    "                      title=\"Air Pollutants in Mumbai on 22-June-2020\", \n",
    "                      autopct=\"%1.1f%%\",\n",
    "                      startangle=25,\n",
    "                      figsize=(8,10), \n",
    "                      explode=explode, \n",
    "                      legend=True)\n",
    "\n",
    "plt.savefig(\"Main_output_images/Mumbai_2020_Pi.png\")"
   ]
  },
  {
   "cell_type": "markdown",
   "metadata": {},
   "source": [
    "# Cross Sectional Analysis"
   ]
  },
  {
   "cell_type": "code",
   "execution_count": 18,
   "metadata": {},
   "outputs": [],
   "source": [
    "#For Cross Sectional Analysis\n",
    "#Chennai location center: IIT\n",
    "#Chennai coordinates: 12.99,80.23\n",
    "#Delhi location center: NSIT Dwarka\n",
    "#Delhi coordinate: 28.59,77.05\n",
    "#Kolkata location center: Rabindra Bharati University, Kolkata - WBSPCB\n",
    "#Kolkata coordinates: 22.62,88.38\n",
    "#Mumbai location center: Maharashtra Pollution Control Board Bandra\n",
    "#Mumbai coordinates: 19.04,72.86"
   ]
  },
  {
   "cell_type": "code",
   "execution_count": 19,
   "metadata": {
    "colab": {},
    "colab_type": "code",
    "id": "QcID_rjS890j"
   },
   "outputs": [
    {
     "ename": "FileNotFoundError",
     "evalue": "[Errno 2] File Main_Data_Retrieval/clean_historical_data.csv does not exist: 'Main_Data_Retrieval/clean_historical_data.csv'",
     "output_type": "error",
     "traceback": [
      "\u001b[1;31m---------------------------------------------------------------------------\u001b[0m",
      "\u001b[1;31mFileNotFoundError\u001b[0m                         Traceback (most recent call last)",
      "\u001b[1;32m<ipython-input-19-5b0cfef8f15a>\u001b[0m in \u001b[0;36m<module>\u001b[1;34m\u001b[0m\n\u001b[0;32m      1\u001b[0m \u001b[1;31m#Historical data\u001b[0m\u001b[1;33m\u001b[0m\u001b[1;33m\u001b[0m\u001b[1;33m\u001b[0m\u001b[0m\n\u001b[0;32m      2\u001b[0m \u001b[0mcsv_file\u001b[0m \u001b[1;33m=\u001b[0m \u001b[1;34m\"Main_Data_Retrieval/clean_historical_data.csv\"\u001b[0m\u001b[1;33m\u001b[0m\u001b[1;33m\u001b[0m\u001b[0m\n\u001b[1;32m----> 3\u001b[1;33m \u001b[0mhistorical_data_df\u001b[0m \u001b[1;33m=\u001b[0m \u001b[0mpd\u001b[0m\u001b[1;33m.\u001b[0m\u001b[0mread_csv\u001b[0m\u001b[1;33m(\u001b[0m\u001b[0mcsv_file\u001b[0m\u001b[1;33m)\u001b[0m\u001b[1;33m\u001b[0m\u001b[1;33m\u001b[0m\u001b[0m\n\u001b[0m\u001b[0;32m      4\u001b[0m \u001b[0mhistorical_data_df\u001b[0m\u001b[1;33m.\u001b[0m\u001b[0mhead\u001b[0m\u001b[1;33m(\u001b[0m\u001b[1;33m)\u001b[0m\u001b[1;33m\u001b[0m\u001b[1;33m\u001b[0m\u001b[0m\n",
      "\u001b[1;32m~\\anaconda3\\lib\\site-packages\\pandas\\io\\parsers.py\u001b[0m in \u001b[0;36mparser_f\u001b[1;34m(filepath_or_buffer, sep, delimiter, header, names, index_col, usecols, squeeze, prefix, mangle_dupe_cols, dtype, engine, converters, true_values, false_values, skipinitialspace, skiprows, skipfooter, nrows, na_values, keep_default_na, na_filter, verbose, skip_blank_lines, parse_dates, infer_datetime_format, keep_date_col, date_parser, dayfirst, cache_dates, iterator, chunksize, compression, thousands, decimal, lineterminator, quotechar, quoting, doublequote, escapechar, comment, encoding, dialect, error_bad_lines, warn_bad_lines, delim_whitespace, low_memory, memory_map, float_precision)\u001b[0m\n\u001b[0;32m    674\u001b[0m         )\n\u001b[0;32m    675\u001b[0m \u001b[1;33m\u001b[0m\u001b[0m\n\u001b[1;32m--> 676\u001b[1;33m         \u001b[1;32mreturn\u001b[0m \u001b[0m_read\u001b[0m\u001b[1;33m(\u001b[0m\u001b[0mfilepath_or_buffer\u001b[0m\u001b[1;33m,\u001b[0m \u001b[0mkwds\u001b[0m\u001b[1;33m)\u001b[0m\u001b[1;33m\u001b[0m\u001b[1;33m\u001b[0m\u001b[0m\n\u001b[0m\u001b[0;32m    677\u001b[0m \u001b[1;33m\u001b[0m\u001b[0m\n\u001b[0;32m    678\u001b[0m     \u001b[0mparser_f\u001b[0m\u001b[1;33m.\u001b[0m\u001b[0m__name__\u001b[0m \u001b[1;33m=\u001b[0m \u001b[0mname\u001b[0m\u001b[1;33m\u001b[0m\u001b[1;33m\u001b[0m\u001b[0m\n",
      "\u001b[1;32m~\\anaconda3\\lib\\site-packages\\pandas\\io\\parsers.py\u001b[0m in \u001b[0;36m_read\u001b[1;34m(filepath_or_buffer, kwds)\u001b[0m\n\u001b[0;32m    446\u001b[0m \u001b[1;33m\u001b[0m\u001b[0m\n\u001b[0;32m    447\u001b[0m     \u001b[1;31m# Create the parser.\u001b[0m\u001b[1;33m\u001b[0m\u001b[1;33m\u001b[0m\u001b[1;33m\u001b[0m\u001b[0m\n\u001b[1;32m--> 448\u001b[1;33m     \u001b[0mparser\u001b[0m \u001b[1;33m=\u001b[0m \u001b[0mTextFileReader\u001b[0m\u001b[1;33m(\u001b[0m\u001b[0mfp_or_buf\u001b[0m\u001b[1;33m,\u001b[0m \u001b[1;33m**\u001b[0m\u001b[0mkwds\u001b[0m\u001b[1;33m)\u001b[0m\u001b[1;33m\u001b[0m\u001b[1;33m\u001b[0m\u001b[0m\n\u001b[0m\u001b[0;32m    449\u001b[0m \u001b[1;33m\u001b[0m\u001b[0m\n\u001b[0;32m    450\u001b[0m     \u001b[1;32mif\u001b[0m \u001b[0mchunksize\u001b[0m \u001b[1;32mor\u001b[0m \u001b[0miterator\u001b[0m\u001b[1;33m:\u001b[0m\u001b[1;33m\u001b[0m\u001b[1;33m\u001b[0m\u001b[0m\n",
      "\u001b[1;32m~\\anaconda3\\lib\\site-packages\\pandas\\io\\parsers.py\u001b[0m in \u001b[0;36m__init__\u001b[1;34m(self, f, engine, **kwds)\u001b[0m\n\u001b[0;32m    878\u001b[0m             \u001b[0mself\u001b[0m\u001b[1;33m.\u001b[0m\u001b[0moptions\u001b[0m\u001b[1;33m[\u001b[0m\u001b[1;34m\"has_index_names\"\u001b[0m\u001b[1;33m]\u001b[0m \u001b[1;33m=\u001b[0m \u001b[0mkwds\u001b[0m\u001b[1;33m[\u001b[0m\u001b[1;34m\"has_index_names\"\u001b[0m\u001b[1;33m]\u001b[0m\u001b[1;33m\u001b[0m\u001b[1;33m\u001b[0m\u001b[0m\n\u001b[0;32m    879\u001b[0m \u001b[1;33m\u001b[0m\u001b[0m\n\u001b[1;32m--> 880\u001b[1;33m         \u001b[0mself\u001b[0m\u001b[1;33m.\u001b[0m\u001b[0m_make_engine\u001b[0m\u001b[1;33m(\u001b[0m\u001b[0mself\u001b[0m\u001b[1;33m.\u001b[0m\u001b[0mengine\u001b[0m\u001b[1;33m)\u001b[0m\u001b[1;33m\u001b[0m\u001b[1;33m\u001b[0m\u001b[0m\n\u001b[0m\u001b[0;32m    881\u001b[0m \u001b[1;33m\u001b[0m\u001b[0m\n\u001b[0;32m    882\u001b[0m     \u001b[1;32mdef\u001b[0m \u001b[0mclose\u001b[0m\u001b[1;33m(\u001b[0m\u001b[0mself\u001b[0m\u001b[1;33m)\u001b[0m\u001b[1;33m:\u001b[0m\u001b[1;33m\u001b[0m\u001b[1;33m\u001b[0m\u001b[0m\n",
      "\u001b[1;32m~\\anaconda3\\lib\\site-packages\\pandas\\io\\parsers.py\u001b[0m in \u001b[0;36m_make_engine\u001b[1;34m(self, engine)\u001b[0m\n\u001b[0;32m   1112\u001b[0m     \u001b[1;32mdef\u001b[0m \u001b[0m_make_engine\u001b[0m\u001b[1;33m(\u001b[0m\u001b[0mself\u001b[0m\u001b[1;33m,\u001b[0m \u001b[0mengine\u001b[0m\u001b[1;33m=\u001b[0m\u001b[1;34m\"c\"\u001b[0m\u001b[1;33m)\u001b[0m\u001b[1;33m:\u001b[0m\u001b[1;33m\u001b[0m\u001b[1;33m\u001b[0m\u001b[0m\n\u001b[0;32m   1113\u001b[0m         \u001b[1;32mif\u001b[0m \u001b[0mengine\u001b[0m \u001b[1;33m==\u001b[0m \u001b[1;34m\"c\"\u001b[0m\u001b[1;33m:\u001b[0m\u001b[1;33m\u001b[0m\u001b[1;33m\u001b[0m\u001b[0m\n\u001b[1;32m-> 1114\u001b[1;33m             \u001b[0mself\u001b[0m\u001b[1;33m.\u001b[0m\u001b[0m_engine\u001b[0m \u001b[1;33m=\u001b[0m \u001b[0mCParserWrapper\u001b[0m\u001b[1;33m(\u001b[0m\u001b[0mself\u001b[0m\u001b[1;33m.\u001b[0m\u001b[0mf\u001b[0m\u001b[1;33m,\u001b[0m \u001b[1;33m**\u001b[0m\u001b[0mself\u001b[0m\u001b[1;33m.\u001b[0m\u001b[0moptions\u001b[0m\u001b[1;33m)\u001b[0m\u001b[1;33m\u001b[0m\u001b[1;33m\u001b[0m\u001b[0m\n\u001b[0m\u001b[0;32m   1115\u001b[0m         \u001b[1;32melse\u001b[0m\u001b[1;33m:\u001b[0m\u001b[1;33m\u001b[0m\u001b[1;33m\u001b[0m\u001b[0m\n\u001b[0;32m   1116\u001b[0m             \u001b[1;32mif\u001b[0m \u001b[0mengine\u001b[0m \u001b[1;33m==\u001b[0m \u001b[1;34m\"python\"\u001b[0m\u001b[1;33m:\u001b[0m\u001b[1;33m\u001b[0m\u001b[1;33m\u001b[0m\u001b[0m\n",
      "\u001b[1;32m~\\anaconda3\\lib\\site-packages\\pandas\\io\\parsers.py\u001b[0m in \u001b[0;36m__init__\u001b[1;34m(self, src, **kwds)\u001b[0m\n\u001b[0;32m   1889\u001b[0m         \u001b[0mkwds\u001b[0m\u001b[1;33m[\u001b[0m\u001b[1;34m\"usecols\"\u001b[0m\u001b[1;33m]\u001b[0m \u001b[1;33m=\u001b[0m \u001b[0mself\u001b[0m\u001b[1;33m.\u001b[0m\u001b[0musecols\u001b[0m\u001b[1;33m\u001b[0m\u001b[1;33m\u001b[0m\u001b[0m\n\u001b[0;32m   1890\u001b[0m \u001b[1;33m\u001b[0m\u001b[0m\n\u001b[1;32m-> 1891\u001b[1;33m         \u001b[0mself\u001b[0m\u001b[1;33m.\u001b[0m\u001b[0m_reader\u001b[0m \u001b[1;33m=\u001b[0m \u001b[0mparsers\u001b[0m\u001b[1;33m.\u001b[0m\u001b[0mTextReader\u001b[0m\u001b[1;33m(\u001b[0m\u001b[0msrc\u001b[0m\u001b[1;33m,\u001b[0m \u001b[1;33m**\u001b[0m\u001b[0mkwds\u001b[0m\u001b[1;33m)\u001b[0m\u001b[1;33m\u001b[0m\u001b[1;33m\u001b[0m\u001b[0m\n\u001b[0m\u001b[0;32m   1892\u001b[0m         \u001b[0mself\u001b[0m\u001b[1;33m.\u001b[0m\u001b[0munnamed_cols\u001b[0m \u001b[1;33m=\u001b[0m \u001b[0mself\u001b[0m\u001b[1;33m.\u001b[0m\u001b[0m_reader\u001b[0m\u001b[1;33m.\u001b[0m\u001b[0munnamed_cols\u001b[0m\u001b[1;33m\u001b[0m\u001b[1;33m\u001b[0m\u001b[0m\n\u001b[0;32m   1893\u001b[0m \u001b[1;33m\u001b[0m\u001b[0m\n",
      "\u001b[1;32mpandas\\_libs\\parsers.pyx\u001b[0m in \u001b[0;36mpandas._libs.parsers.TextReader.__cinit__\u001b[1;34m()\u001b[0m\n",
      "\u001b[1;32mpandas\\_libs\\parsers.pyx\u001b[0m in \u001b[0;36mpandas._libs.parsers.TextReader._setup_parser_source\u001b[1;34m()\u001b[0m\n",
      "\u001b[1;31mFileNotFoundError\u001b[0m: [Errno 2] File Main_Data_Retrieval/clean_historical_data.csv does not exist: 'Main_Data_Retrieval/clean_historical_data.csv'"
     ]
    }
   ],
   "source": [
    "#Historical data\n",
    "csv_file = \"Main_Data_Retrieval/clean_historical_data.csv\"\n",
    "historical_data_df = pd.read_csv(csv_file)\n",
    "historical_data_df.head()"
   ]
  },
  {
   "cell_type": "code",
   "execution_count": 20,
   "metadata": {},
   "outputs": [
    {
     "ename": "NameError",
     "evalue": "name 'historical_data_df' is not defined",
     "output_type": "error",
     "traceback": [
      "\u001b[1;31m---------------------------------------------------------------------------\u001b[0m",
      "\u001b[1;31mNameError\u001b[0m                                 Traceback (most recent call last)",
      "\u001b[1;32m<ipython-input-20-422d63f4059a>\u001b[0m in \u001b[0;36m<module>\u001b[1;34m\u001b[0m\n\u001b[0;32m      1\u001b[0m \u001b[1;31m#Drop pm25 and pm10 for all cities\u001b[0m\u001b[1;33m\u001b[0m\u001b[1;33m\u001b[0m\u001b[1;33m\u001b[0m\u001b[0m\n\u001b[0;32m      2\u001b[0m \u001b[0mdrop_parameter\u001b[0m \u001b[1;33m=\u001b[0m \u001b[1;33m[\u001b[0m\u001b[1;34m\"pm25\"\u001b[0m\u001b[1;33m,\u001b[0m \u001b[1;34m\"pm10\"\u001b[0m\u001b[1;33m]\u001b[0m\u001b[1;33m\u001b[0m\u001b[1;33m\u001b[0m\u001b[0m\n\u001b[1;32m----> 3\u001b[1;33m \u001b[0mfinal_historical_df\u001b[0m \u001b[1;33m=\u001b[0m \u001b[0mhistorical_data_df\u001b[0m\u001b[1;33m[\u001b[0m\u001b[0mhistorical_data_df\u001b[0m\u001b[1;33m[\u001b[0m\u001b[1;34m\"Parameter\"\u001b[0m\u001b[1;33m]\u001b[0m\u001b[1;33m.\u001b[0m\u001b[0misin\u001b[0m\u001b[1;33m(\u001b[0m\u001b[0mdrop_parameter\u001b[0m\u001b[1;33m)\u001b[0m\u001b[1;33m==\u001b[0m\u001b[1;32mFalse\u001b[0m\u001b[1;33m]\u001b[0m\u001b[1;33m\u001b[0m\u001b[1;33m\u001b[0m\u001b[0m\n\u001b[0m\u001b[0;32m      4\u001b[0m \u001b[0mfinal_historical_df\u001b[0m\u001b[1;33m\u001b[0m\u001b[1;33m\u001b[0m\u001b[0m\n",
      "\u001b[1;31mNameError\u001b[0m: name 'historical_data_df' is not defined"
     ]
    }
   ],
   "source": [
    "#Drop pm25 and pm10 for all cities\n",
    "drop_parameter = [\"pm25\", \"pm10\"]\n",
    "final_historical_df = historical_data_df[historical_data_df[\"Parameter\"].isin(drop_parameter)==False]\n",
    "final_historical_df"
   ]
  },
  {
   "cell_type": "code",
   "execution_count": 21,
   "metadata": {},
   "outputs": [
    {
     "ename": "NameError",
     "evalue": "name 'final_historical_df' is not defined",
     "output_type": "error",
     "traceback": [
      "\u001b[1;31m---------------------------------------------------------------------------\u001b[0m",
      "\u001b[1;31mNameError\u001b[0m                                 Traceback (most recent call last)",
      "\u001b[1;32m<ipython-input-21-59ca7628e221>\u001b[0m in \u001b[0;36m<module>\u001b[1;34m\u001b[0m\n\u001b[1;32m----> 1\u001b[1;33m \u001b[0mhist_chennai_df\u001b[0m \u001b[1;33m=\u001b[0m \u001b[0mfinal_historical_df\u001b[0m\u001b[1;33m.\u001b[0m\u001b[0mloc\u001b[0m\u001b[1;33m[\u001b[0m\u001b[0mfinal_historical_df\u001b[0m\u001b[1;33m[\u001b[0m\u001b[1;34m'City'\u001b[0m\u001b[1;33m]\u001b[0m \u001b[1;33m==\u001b[0m \u001b[1;34m'Chennai'\u001b[0m\u001b[1;33m]\u001b[0m\u001b[1;33m\u001b[0m\u001b[1;33m\u001b[0m\u001b[0m\n\u001b[0m\u001b[0;32m      2\u001b[0m \u001b[0mhist_chennai_pie\u001b[0m\u001b[1;33m=\u001b[0m \u001b[0mhist_chennai_df\u001b[0m\u001b[1;33m.\u001b[0m\u001b[0mgroupby\u001b[0m\u001b[1;33m(\u001b[0m\u001b[1;33m[\u001b[0m\u001b[1;34m\"Parameter\"\u001b[0m\u001b[1;33m,\u001b[0m \u001b[1;34m\"Value\"\u001b[0m\u001b[1;33m]\u001b[0m\u001b[1;33m)\u001b[0m\u001b[1;33m\u001b[0m\u001b[1;33m\u001b[0m\u001b[0m\n\u001b[0;32m      3\u001b[0m \u001b[0mhist_chennai_mean_plot\u001b[0m \u001b[1;33m=\u001b[0m \u001b[0mhist_chennai_pie\u001b[0m\u001b[1;33m.\u001b[0m\u001b[0mValue\u001b[0m\u001b[1;33m.\u001b[0m\u001b[0mmean\u001b[0m\u001b[1;33m(\u001b[0m\u001b[1;33m)\u001b[0m\u001b[1;33m\u001b[0m\u001b[1;33m\u001b[0m\u001b[0m\n\u001b[0;32m      4\u001b[0m \u001b[0mexplode\u001b[0m \u001b[1;33m=\u001b[0m \u001b[1;33m(\u001b[0m\u001b[1;36m0\u001b[0m\u001b[1;33m,\u001b[0m \u001b[1;36m0.1\u001b[0m\u001b[1;33m,\u001b[0m \u001b[1;36m0\u001b[0m\u001b[1;33m,\u001b[0m \u001b[1;36m0\u001b[0m\u001b[1;33m)\u001b[0m\u001b[1;33m\u001b[0m\u001b[1;33m\u001b[0m\u001b[0m\n\u001b[0;32m      5\u001b[0m \u001b[0mcolors\u001b[0m \u001b[1;33m=\u001b[0m \u001b[1;33m[\u001b[0m\u001b[1;34m'skyblue'\u001b[0m\u001b[1;33m,\u001b[0m \u001b[1;34m'yellow'\u001b[0m\u001b[1;33m,\u001b[0m \u001b[1;34m'lightgreen'\u001b[0m\u001b[1;33m,\u001b[0m \u001b[1;34m'coral'\u001b[0m\u001b[1;33m]\u001b[0m\u001b[1;33m\u001b[0m\u001b[1;33m\u001b[0m\u001b[0m\n",
      "\u001b[1;31mNameError\u001b[0m: name 'final_historical_df' is not defined"
     ]
    }
   ],
   "source": [
    "hist_chennai_df = final_historical_df.loc[final_historical_df['City'] == 'Chennai']\n",
    "hist_chennai_pie= hist_chennai_df.groupby([\"Parameter\", \"Value\"])\n",
    "hist_chennai_mean_plot = hist_chennai_pie.Value.mean()\n",
    "explode = (0, 0.1, 0, 0)\n",
    "colors = ['skyblue', 'yellow', 'lightgreen', 'coral']\n",
    "\n",
    "chennai_mean_plot.plot(kind=\"pie\", \n",
    "                       subplots=True, \n",
    "                       title=\"Air Pollutants in Chennai on 22-June-2017\", \n",
    "                       autopct=\"%1.1f%%\",\n",
    "                       figsize=(8,10), \n",
    "                       startangle=25, \n",
    "                       explode=explode, \n",
    "                       legend=True, \n",
    "                       colors=colors)\n",
    "\n",
    "plt.savefig(\"Main_output_images/Chennai_2017_Pi.png\")"
   ]
  },
  {
   "cell_type": "code",
   "execution_count": 22,
   "metadata": {},
   "outputs": [
    {
     "ename": "NameError",
     "evalue": "name 'final_historical_df' is not defined",
     "output_type": "error",
     "traceback": [
      "\u001b[1;31m---------------------------------------------------------------------------\u001b[0m",
      "\u001b[1;31mNameError\u001b[0m                                 Traceback (most recent call last)",
      "\u001b[1;32m<ipython-input-22-103ba24e3ce9>\u001b[0m in \u001b[0;36m<module>\u001b[1;34m\u001b[0m\n\u001b[1;32m----> 1\u001b[1;33m \u001b[0mhist_delhi_df\u001b[0m \u001b[1;33m=\u001b[0m \u001b[0mfinal_historical_df\u001b[0m\u001b[1;33m.\u001b[0m\u001b[0mloc\u001b[0m\u001b[1;33m[\u001b[0m\u001b[0mfinal_historical_df\u001b[0m\u001b[1;33m[\u001b[0m\u001b[1;34m'City'\u001b[0m\u001b[1;33m]\u001b[0m \u001b[1;33m==\u001b[0m \u001b[1;34m'Delhi'\u001b[0m\u001b[1;33m]\u001b[0m\u001b[1;33m\u001b[0m\u001b[1;33m\u001b[0m\u001b[0m\n\u001b[0m\u001b[0;32m      2\u001b[0m \u001b[0mhist_delhi_pie\u001b[0m\u001b[1;33m=\u001b[0m \u001b[0mhist_delhi_df\u001b[0m\u001b[1;33m.\u001b[0m\u001b[0mgroupby\u001b[0m\u001b[1;33m(\u001b[0m\u001b[1;33m[\u001b[0m\u001b[1;34m\"Parameter\"\u001b[0m\u001b[1;33m,\u001b[0m \u001b[1;34m\"Value\"\u001b[0m\u001b[1;33m]\u001b[0m\u001b[1;33m)\u001b[0m\u001b[1;33m\u001b[0m\u001b[1;33m\u001b[0m\u001b[0m\n\u001b[0;32m      3\u001b[0m \u001b[0mhist_delhi_mean_plot\u001b[0m \u001b[1;33m=\u001b[0m \u001b[0mhist_delhi_pie\u001b[0m\u001b[1;33m.\u001b[0m\u001b[0mValue\u001b[0m\u001b[1;33m.\u001b[0m\u001b[0mmean\u001b[0m\u001b[1;33m(\u001b[0m\u001b[1;33m)\u001b[0m\u001b[1;33m\u001b[0m\u001b[1;33m\u001b[0m\u001b[0m\n\u001b[0;32m      4\u001b[0m \u001b[0mexplode\u001b[0m \u001b[1;33m=\u001b[0m \u001b[1;33m(\u001b[0m\u001b[1;36m0\u001b[0m\u001b[1;33m,\u001b[0m \u001b[1;36m0.1\u001b[0m\u001b[1;33m,\u001b[0m \u001b[1;36m0\u001b[0m\u001b[1;33m,\u001b[0m \u001b[1;36m0\u001b[0m\u001b[1;33m)\u001b[0m\u001b[1;33m\u001b[0m\u001b[1;33m\u001b[0m\u001b[0m\n\u001b[0;32m      5\u001b[0m \u001b[0mcolors\u001b[0m \u001b[1;33m=\u001b[0m \u001b[1;33m[\u001b[0m\u001b[1;34m'skyblue'\u001b[0m\u001b[1;33m,\u001b[0m \u001b[1;34m'yellow'\u001b[0m\u001b[1;33m,\u001b[0m \u001b[1;34m'lightgreen'\u001b[0m\u001b[1;33m,\u001b[0m \u001b[1;34m'coral'\u001b[0m\u001b[1;33m]\u001b[0m\u001b[1;33m\u001b[0m\u001b[1;33m\u001b[0m\u001b[0m\n",
      "\u001b[1;31mNameError\u001b[0m: name 'final_historical_df' is not defined"
     ]
    }
   ],
   "source": [
    "hist_delhi_df = final_historical_df.loc[final_historical_df['City'] == 'Delhi']\n",
    "hist_delhi_pie= hist_delhi_df.groupby([\"Parameter\", \"Value\"])\n",
    "hist_delhi_mean_plot = hist_delhi_pie.Value.mean()\n",
    "explode = (0, 0.1, 0, 0)\n",
    "colors = ['skyblue', 'yellow', 'lightgreen', 'coral']\n",
    "\n",
    "delhi_mean_plot.plot(kind=\"pie\", \n",
    "                     subplots=True, \n",
    "                     title=\"Air Pollutants in Delhi on 22-June-2017\", \n",
    "                     autopct=\"%1.1f%%\",\n",
    "                     figsize=(8,10),\n",
    "                     startangle=25, \n",
    "                     explode=explode, \n",
    "                     legend=True, \n",
    "                     colors=colors)\n",
    "\n",
    "plt.savefig(\"Main_output_images/Delhi_2017_Pi.png\")"
   ]
  },
  {
   "cell_type": "code",
   "execution_count": 23,
   "metadata": {},
   "outputs": [
    {
     "ename": "NameError",
     "evalue": "name 'final_historical_df' is not defined",
     "output_type": "error",
     "traceback": [
      "\u001b[1;31m---------------------------------------------------------------------------\u001b[0m",
      "\u001b[1;31mNameError\u001b[0m                                 Traceback (most recent call last)",
      "\u001b[1;32m<ipython-input-23-bad4a1244e9d>\u001b[0m in \u001b[0;36m<module>\u001b[1;34m\u001b[0m\n\u001b[1;32m----> 1\u001b[1;33m \u001b[0mhist_kolkata_df\u001b[0m \u001b[1;33m=\u001b[0m \u001b[0mfinal_historical_df\u001b[0m\u001b[1;33m.\u001b[0m\u001b[0mloc\u001b[0m\u001b[1;33m[\u001b[0m\u001b[0mfinal_historical_df\u001b[0m\u001b[1;33m[\u001b[0m\u001b[1;34m'City'\u001b[0m\u001b[1;33m]\u001b[0m \u001b[1;33m==\u001b[0m \u001b[1;34m'Chennai'\u001b[0m\u001b[1;33m]\u001b[0m\u001b[1;33m\u001b[0m\u001b[1;33m\u001b[0m\u001b[0m\n\u001b[0m\u001b[0;32m      2\u001b[0m \u001b[0mhist_kolkata_pie\u001b[0m\u001b[1;33m=\u001b[0m \u001b[0mhist_kolkata_df\u001b[0m\u001b[1;33m.\u001b[0m\u001b[0mgroupby\u001b[0m\u001b[1;33m(\u001b[0m\u001b[1;33m[\u001b[0m\u001b[1;34m\"Parameter\"\u001b[0m\u001b[1;33m,\u001b[0m \u001b[1;34m\"Value\"\u001b[0m\u001b[1;33m]\u001b[0m\u001b[1;33m)\u001b[0m\u001b[1;33m\u001b[0m\u001b[1;33m\u001b[0m\u001b[0m\n\u001b[0;32m      3\u001b[0m \u001b[0mhist_kolkata_mean_plot\u001b[0m \u001b[1;33m=\u001b[0m \u001b[0mhist_kolkata_pie\u001b[0m\u001b[1;33m.\u001b[0m\u001b[0mValue\u001b[0m\u001b[1;33m.\u001b[0m\u001b[0mmean\u001b[0m\u001b[1;33m(\u001b[0m\u001b[1;33m)\u001b[0m\u001b[1;33m\u001b[0m\u001b[1;33m\u001b[0m\u001b[0m\n\u001b[0;32m      4\u001b[0m \u001b[0mexplode\u001b[0m \u001b[1;33m=\u001b[0m \u001b[1;33m(\u001b[0m\u001b[1;36m0\u001b[0m\u001b[1;33m,\u001b[0m \u001b[1;36m0.1\u001b[0m\u001b[1;33m,\u001b[0m \u001b[1;36m0\u001b[0m\u001b[1;33m,\u001b[0m \u001b[1;36m0\u001b[0m\u001b[1;33m)\u001b[0m\u001b[1;33m\u001b[0m\u001b[1;33m\u001b[0m\u001b[0m\n\u001b[0;32m      5\u001b[0m \u001b[0mcolors\u001b[0m \u001b[1;33m=\u001b[0m \u001b[1;33m[\u001b[0m\u001b[1;34m'skyblue'\u001b[0m\u001b[1;33m,\u001b[0m \u001b[1;34m'yellow'\u001b[0m\u001b[1;33m,\u001b[0m \u001b[1;34m'lightgreen'\u001b[0m\u001b[1;33m,\u001b[0m \u001b[1;34m'coral'\u001b[0m\u001b[1;33m]\u001b[0m\u001b[1;33m\u001b[0m\u001b[1;33m\u001b[0m\u001b[0m\n",
      "\u001b[1;31mNameError\u001b[0m: name 'final_historical_df' is not defined"
     ]
    }
   ],
   "source": [
    "hist_kolkata_df = final_historical_df.loc[final_historical_df['City'] == 'Chennai']\n",
    "hist_kolkata_pie= hist_kolkata_df.groupby([\"Parameter\", \"Value\"])\n",
    "hist_kolkata_mean_plot = hist_kolkata_pie.Value.mean()\n",
    "explode = (0, 0.1, 0, 0)\n",
    "colors = ['skyblue', 'yellow', 'lightgreen', 'coral']\n",
    "\n",
    "kolkata_mean_plot.plot(kind=\"pie\", \n",
    "                       subplots=True, \n",
    "                       title=\"Air Pollutants in Kolkata on 22-June-2017\", \n",
    "                       autopct=\"%1.1f%%\",\n",
    "                       figsize=(8,10),\n",
    "                       startangle=25, \n",
    "                       explode=explode, \n",
    "                       legend=True, \n",
    "                       colors=colors)\n",
    "\n",
    "plt.savefig(\"Main_output_images/Kolkata_2017_Pi.png\")"
   ]
  },
  {
   "cell_type": "code",
   "execution_count": 24,
   "metadata": {},
   "outputs": [
    {
     "ename": "NameError",
     "evalue": "name 'final_historical_df' is not defined",
     "output_type": "error",
     "traceback": [
      "\u001b[1;31m---------------------------------------------------------------------------\u001b[0m",
      "\u001b[1;31mNameError\u001b[0m                                 Traceback (most recent call last)",
      "\u001b[1;32m<ipython-input-24-0b3148d4d49f>\u001b[0m in \u001b[0;36m<module>\u001b[1;34m\u001b[0m\n\u001b[1;32m----> 1\u001b[1;33m \u001b[0mhist_mumbai_df\u001b[0m \u001b[1;33m=\u001b[0m \u001b[0mfinal_historical_df\u001b[0m\u001b[1;33m.\u001b[0m\u001b[0mloc\u001b[0m\u001b[1;33m[\u001b[0m\u001b[0mfinal_historical_df\u001b[0m\u001b[1;33m[\u001b[0m\u001b[1;34m'City'\u001b[0m\u001b[1;33m]\u001b[0m \u001b[1;33m==\u001b[0m \u001b[1;34m'Chennai'\u001b[0m\u001b[1;33m]\u001b[0m\u001b[1;33m\u001b[0m\u001b[1;33m\u001b[0m\u001b[0m\n\u001b[0m\u001b[0;32m      2\u001b[0m \u001b[0mhist_mumbai_pie\u001b[0m\u001b[1;33m=\u001b[0m \u001b[0mhist_mumbai_df\u001b[0m\u001b[1;33m.\u001b[0m\u001b[0mgroupby\u001b[0m\u001b[1;33m(\u001b[0m\u001b[1;33m[\u001b[0m\u001b[1;34m\"Parameter\"\u001b[0m\u001b[1;33m,\u001b[0m \u001b[1;34m\"Value\"\u001b[0m\u001b[1;33m]\u001b[0m\u001b[1;33m)\u001b[0m\u001b[1;33m\u001b[0m\u001b[1;33m\u001b[0m\u001b[0m\n\u001b[0;32m      3\u001b[0m \u001b[0mhist_mumbai_mean_plot\u001b[0m \u001b[1;33m=\u001b[0m \u001b[0mhist_mumbai_pie\u001b[0m\u001b[1;33m.\u001b[0m\u001b[0mValue\u001b[0m\u001b[1;33m.\u001b[0m\u001b[0mmean\u001b[0m\u001b[1;33m(\u001b[0m\u001b[1;33m)\u001b[0m\u001b[1;33m\u001b[0m\u001b[1;33m\u001b[0m\u001b[0m\n\u001b[0;32m      4\u001b[0m \u001b[0mexplode\u001b[0m \u001b[1;33m=\u001b[0m \u001b[1;33m(\u001b[0m\u001b[1;36m0\u001b[0m\u001b[1;33m,\u001b[0m \u001b[1;36m0.1\u001b[0m\u001b[1;33m,\u001b[0m \u001b[1;36m0\u001b[0m\u001b[1;33m,\u001b[0m \u001b[1;36m0\u001b[0m\u001b[1;33m)\u001b[0m\u001b[1;33m\u001b[0m\u001b[1;33m\u001b[0m\u001b[0m\n\u001b[0;32m      5\u001b[0m \u001b[0mcolors\u001b[0m \u001b[1;33m=\u001b[0m \u001b[1;33m[\u001b[0m\u001b[1;34m'skyblue'\u001b[0m\u001b[1;33m,\u001b[0m \u001b[1;34m'yellow'\u001b[0m\u001b[1;33m,\u001b[0m \u001b[1;34m'lightgreen'\u001b[0m\u001b[1;33m,\u001b[0m \u001b[1;34m'coral'\u001b[0m\u001b[1;33m]\u001b[0m\u001b[1;33m\u001b[0m\u001b[1;33m\u001b[0m\u001b[0m\n",
      "\u001b[1;31mNameError\u001b[0m: name 'final_historical_df' is not defined"
     ]
    }
   ],
   "source": [
    "hist_mumbai_df = final_historical_df.loc[final_historical_df['City'] == 'Chennai']\n",
    "hist_mumbai_pie= hist_mumbai_df.groupby([\"Parameter\", \"Value\"])\n",
    "hist_mumbai_mean_plot = hist_mumbai_pie.Value.mean()\n",
    "explode = (0, 0.1, 0, 0)\n",
    "colors = ['skyblue', 'yellow', 'lightgreen', 'coral']\n",
    "\n",
    "mumbai_mean_plot.plot(kind=\"pie\", \n",
    "                      subplots=True, \n",
    "                      title=\"Air Pollutants in Mumbai on 22-June-2017\", \n",
    "                      autopct=\"%1.1f%%\",\n",
    "                      figsize=(8,10),\n",
    "                      startangle=25, \n",
    "                      explode=explode, \n",
    "                      legend=True, \n",
    "                      colors=colors)\n",
    "\n",
    "plt.savefig(\"Main_output_images/Mumbai_2017_Pi.png\")"
   ]
  },
  {
   "cell_type": "markdown",
   "metadata": {},
   "source": [
    "* Cross Sectional Analysis - Bar Chart"
   ]
  },
  {
   "cell_type": "code",
   "execution_count": 25,
   "metadata": {},
   "outputs": [
    {
     "ename": "NameError",
     "evalue": "name 'final_historical_df' is not defined",
     "output_type": "error",
     "traceback": [
      "\u001b[1;31m---------------------------------------------------------------------------\u001b[0m",
      "\u001b[1;31mNameError\u001b[0m                                 Traceback (most recent call last)",
      "\u001b[1;32m<ipython-input-25-5659f669c640>\u001b[0m in \u001b[0;36m<module>\u001b[1;34m\u001b[0m\n\u001b[1;32m----> 1\u001b[1;33m \u001b[0mhist_co\u001b[0m \u001b[1;33m=\u001b[0m \u001b[0mfinal_historical_df\u001b[0m\u001b[1;33m.\u001b[0m\u001b[0mloc\u001b[0m\u001b[1;33m[\u001b[0m\u001b[0mfinal_historical_df\u001b[0m\u001b[1;33m[\u001b[0m\u001b[1;34m'Parameter'\u001b[0m\u001b[1;33m]\u001b[0m \u001b[1;33m==\u001b[0m \u001b[1;34m'co'\u001b[0m\u001b[1;33m]\u001b[0m\u001b[1;33m\u001b[0m\u001b[1;33m\u001b[0m\u001b[0m\n\u001b[0m\u001b[0;32m      2\u001b[0m \u001b[1;33m\u001b[0m\u001b[0m\n\u001b[0;32m      3\u001b[0m \u001b[0mhist_grouped_cities_co\u001b[0m \u001b[1;33m=\u001b[0m \u001b[0mhist_co\u001b[0m\u001b[1;33m.\u001b[0m\u001b[0mgroupby\u001b[0m\u001b[1;33m(\u001b[0m\u001b[1;33m[\u001b[0m\u001b[1;34m\"City\"\u001b[0m\u001b[1;33m]\u001b[0m\u001b[1;33m)\u001b[0m\u001b[1;33m\u001b[0m\u001b[1;33m\u001b[0m\u001b[0m\n\u001b[0;32m      4\u001b[0m \u001b[1;33m\u001b[0m\u001b[0m\n\u001b[0;32m      5\u001b[0m \u001b[0mhist_avg_value\u001b[0m \u001b[1;33m=\u001b[0m \u001b[0mround\u001b[0m\u001b[1;33m(\u001b[0m\u001b[0mhist_grouped_cities_co\u001b[0m\u001b[1;33m[\u001b[0m\u001b[1;34m\"Value\"\u001b[0m\u001b[1;33m]\u001b[0m\u001b[1;33m.\u001b[0m\u001b[0mmean\u001b[0m\u001b[1;33m(\u001b[0m\u001b[1;33m)\u001b[0m\u001b[1;33m,\u001b[0m\u001b[1;36m2\u001b[0m\u001b[1;33m)\u001b[0m\u001b[1;33m\u001b[0m\u001b[1;33m\u001b[0m\u001b[0m\n",
      "\u001b[1;31mNameError\u001b[0m: name 'final_historical_df' is not defined"
     ]
    }
   ],
   "source": [
    "hist_co = final_historical_df.loc[final_historical_df['Parameter'] == 'co']\n",
    "\n",
    "hist_grouped_cities_co = hist_co.groupby([\"City\"])\n",
    "\n",
    "hist_avg_value = round(hist_grouped_cities_co[\"Value\"].mean(),2)\n",
    "\n",
    "hist_citystats_co_df = pd.DataFrame({\"Mean\": hist_avg_value})\n",
    "\n",
    "hist_citystats_co_df.sort_values(\"City\", axis=0, ascending = True)"
   ]
  },
  {
   "cell_type": "code",
   "execution_count": 26,
   "metadata": {},
   "outputs": [
    {
     "ename": "NameError",
     "evalue": "name 'hist_citystats_co_df' is not defined",
     "output_type": "error",
     "traceback": [
      "\u001b[1;31m---------------------------------------------------------------------------\u001b[0m",
      "\u001b[1;31mNameError\u001b[0m                                 Traceback (most recent call last)",
      "\u001b[1;32m<ipython-input-26-061aa984e8cc>\u001b[0m in \u001b[0;36m<module>\u001b[1;34m\u001b[0m\n\u001b[0;32m      1\u001b[0m \u001b[0mplt\u001b[0m\u001b[1;33m.\u001b[0m\u001b[0mfigure\u001b[0m\u001b[1;33m(\u001b[0m\u001b[0mfigsize\u001b[0m\u001b[1;33m=\u001b[0m\u001b[1;33m(\u001b[0m\u001b[1;36m7\u001b[0m\u001b[1;33m,\u001b[0m\u001b[1;36m7\u001b[0m\u001b[1;33m)\u001b[0m\u001b[1;33m)\u001b[0m\u001b[1;33m\u001b[0m\u001b[1;33m\u001b[0m\u001b[0m\n\u001b[0;32m      2\u001b[0m \u001b[1;33m\u001b[0m\u001b[0m\n\u001b[1;32m----> 3\u001b[1;33m \u001b[0mhist_co_barplot\u001b[0m \u001b[1;33m=\u001b[0m \u001b[0mhist_citystats_co_df\u001b[0m\u001b[1;33m[\u001b[0m\u001b[1;34m\"Mean\"\u001b[0m\u001b[1;33m]\u001b[0m\u001b[1;33m\u001b[0m\u001b[1;33m\u001b[0m\u001b[0m\n\u001b[0m\u001b[0;32m      4\u001b[0m plt.bar(hist_co_barplot.index.values, hist_co_barplot.values, \n\u001b[0;32m      5\u001b[0m         \u001b[0mcolor\u001b[0m\u001b[1;33m=\u001b[0m\u001b[1;34m\"turquoise\"\u001b[0m\u001b[1;33m,\u001b[0m\u001b[1;33m\u001b[0m\u001b[1;33m\u001b[0m\u001b[0m\n",
      "\u001b[1;31mNameError\u001b[0m: name 'hist_citystats_co_df' is not defined"
     ]
    },
    {
     "data": {
      "text/plain": [
       "<Figure size 504x504 with 0 Axes>"
      ]
     },
     "metadata": {},
     "output_type": "display_data"
    }
   ],
   "source": [
    "plt.figure(figsize=(7,7))\n",
    "\n",
    "hist_co_barplot = hist_citystats_co_df[\"Mean\"]\n",
    "plt.bar(hist_co_barplot.index.values, hist_co_barplot.values, \n",
    "        color=\"turquoise\",\n",
    "        align=\"center\", \n",
    "        width = 0.5)\n",
    "\n",
    "# Set a Title and labels\n",
    "plt.xlabel(\"Cities\")\n",
    "plt.xticks(rotation=45)\n",
    "plt.ylabel(\"Average level of CO\")\n",
    "plt.title(\"Carbon monoxide (CO) level per city - 2017\")\n",
    "plt.legend([\"2017 CO_Mean\"])\n",
    "\n",
    "# Set x and y limits\n",
    "plt.xlim(-0.5, 3.5)\n",
    "plt.ylim(0, 1100)\n",
    "\n",
    "plt.savefig(\"Main_output_images/CO_Mean_Hist2017_barplot.png\")"
   ]
  },
  {
   "cell_type": "code",
   "execution_count": null,
   "metadata": {},
   "outputs": [],
   "source": []
  },
  {
   "cell_type": "code",
   "execution_count": null,
   "metadata": {},
   "outputs": [],
   "source": []
  }
 ],
 "metadata": {
  "kernelspec": {
   "display_name": "Python 3",
   "language": "python",
   "name": "python3"
  },
  "language_info": {
   "codemirror_mode": {
    "name": "ipython",
    "version": 3
   },
   "file_extension": ".py",
   "mimetype": "text/x-python",
   "name": "python",
   "nbconvert_exporter": "python",
   "pygments_lexer": "ipython3",
   "version": "3.7.6"
  }
 },
 "nbformat": 4,
 "nbformat_minor": 4
}
