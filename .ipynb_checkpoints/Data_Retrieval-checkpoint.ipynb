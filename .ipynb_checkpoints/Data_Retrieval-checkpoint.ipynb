{
 "cells": [
  {
   "cell_type": "code",
   "execution_count": 1,
   "metadata": {},
   "outputs": [],
   "source": [
    "#Dependencies\n",
    "import pandas as pd\n",
    "import requests\n",
    "import json\n",
    "import os\n",
    "import csv\n",
    "import shutil"
   ]
  },
  {
   "cell_type": "code",
   "execution_count": 2,
   "metadata": {},
   "outputs": [
    {
     "data": {
      "text/plain": [
       "'https://api.openaq.org/v1/measurements?date_from=2020-04-01&date_to=2020-06-23&format=csv'"
      ]
     },
     "execution_count": 2,
     "metadata": {},
     "output_type": "execute_result"
    }
   ],
   "source": [
    "base_url = \"https://api.openaq.org/v1/measurements?date_from=2020-04-01&date_to=2020-06-23&format=csv\"\n",
    "\n",
    "base_url"
   ]
  },
  {
   "cell_type": "code",
   "execution_count": 9,
   "metadata": {},
   "outputs": [],
   "source": [
    "# Delhi location center: Aya Nagar, Delhi - IMD\n",
    "# Delhi coordinates: 28.47,77.10\n",
    "# Mumbai location center: Chhatrapati Shivaji Intl. Airport (T2), Mumbai - MPCB\n",
    "# Mumbai coordinates: 19.10,72.83\n",
    "# Chennai location center: Velachery Res. Area, Chennai - CPCB\n",
    "# Chennai coordinates: 13.00,80.23\n",
    "# Patna location center: Govt. High School Shikarpur, Patna - BSPCB\n",
    "# Patna coordinates: 25.59,85.22\n",
    "coordinates = [\"28.47,77.10\", \"19.10,72.83\", \"13.00,80.23\", \"25.59,85.22\"]\n",
    "for coordinate in coordinates:\n",
    "    target_url = (f\"{base_url}&coordinates={coordinate}\")\n",
    "    df = pd.read_csv(target_url)\n",
    "    df.to_csv(f'{coordinate}_data.csv')"
   ]
  },
  {
   "cell_type": "code",
   "execution_count": 10,
   "metadata": {},
   "outputs": [
    {
     "data": {
      "text/plain": [
       "'https://api.openaq.org/v1/measurements?date_from=2020-04-01&date_to=2020-06-23&format=csv&coordinates=25.59,85.22'"
      ]
     },
     "execution_count": 10,
     "metadata": {},
     "output_type": "execute_result"
    }
   ],
   "source": [
    "target_url"
   ]
  },
  {
   "cell_type": "code",
   "execution_count": 1,
   "metadata": {},
   "outputs": [],
   "source": [
    "# os.rename(\"28.47,77.10_data.csv\", \"Delhi_data.csv\")\n",
    "# os.rename(\"19.10,72.83_data.csv\", \"Mumbai_data.csv\")\n",
    "# os.rename(\"13.00,80.23_data.csv\", \"Chennai_data.csv\")\n",
    "# os.rename(\"25.59,85.22_data.csv\", \"Patna_data.csv\")"
   ]
  },
  {
   "cell_type": "code",
   "execution_count": 4,
   "metadata": {},
   "outputs": [
    {
     "data": {
      "text/plain": [
       "'Data/Patna_data.csv'"
      ]
     },
     "execution_count": 4,
     "metadata": {},
     "output_type": "execute_result"
    }
   ],
   "source": [
    "shutil.move(\"Delhi_data.csv\", \"Data/Delhi_data.csv\")\n",
    "shutil.move(\"Mumbai_data.csv\", \"Data/Mumbai_data.csv\")\n",
    "shutil.move(\"Chennai_data.csv\", \"Data/Chennai_data.csv\")\n",
    "shutil.move(\"Patna_data.csv\", \"Data/Patna_data.csv\")"
   ]
  },
  {
   "cell_type": "code",
   "execution_count": null,
   "metadata": {},
   "outputs": [],
   "source": []
  }
 ],
 "metadata": {
  "kernelspec": {
   "display_name": "Python [conda env:root] *",
   "language": "python",
   "name": "conda-root-py"
  },
  "language_info": {
   "codemirror_mode": {
    "name": "ipython",
    "version": 3
   },
   "file_extension": ".py",
   "mimetype": "text/x-python",
   "name": "python",
   "nbconvert_exporter": "python",
   "pygments_lexer": "ipython3",
   "version": "3.7.6"
  }
 },
 "nbformat": 4,
 "nbformat_minor": 4
}
