{
 "cells": [
  {
   "cell_type": "code",
   "execution_count": 4,
   "metadata": {},
   "outputs": [],
   "source": [
    "#Dependencies\n",
    "import pandas as pd\n",
    "import numpy as np\n",
    "import matplotlib as plt\n",
    "import time\n",
    "import io\n",
    "import os\n",
    "import csv\n",
    "import requests\n",
    "import json\n",
    "import shutil"
   ]
  },
  {
   "cell_type": "code",
   "execution_count": 5,
   "metadata": {},
   "outputs": [],
   "source": [
    "base_url = 'https://api.openaq.org/v1/measurements?'"
   ]
  },
  {
   "cell_type": "code",
   "execution_count": 6,
   "metadata": {},
   "outputs": [],
   "source": [
    "# Delhi location center: Aya Nagar, Delhi - IMD\n",
    "# Delhi coordinates: 28.47,77.10\n",
    "\n",
    "# Mumbai location center: Chhatrapati Shivaji Intl. Airport (T2), Mumbai - MPCB\n",
    "# Mumbai coordinates: 19.10,72.83\n",
    "\n",
    "# Chennai location center: Velachery Res. Area, Chennai - CPCB\n",
    "# Chennai coordinates: 13.00,80.23\n",
    "\n",
    "# Patna location center: Govt. High School Shikarpur, Patna - BSPCB\n",
    "# Patna coordinates: 25.59,85.22\n",
    "\n",
    "coordinates = ['28.47,77.10', '19.10,72.83', '13.00,80.23', '25.59,85.22']\n",
    "start_time = '2020-06-22'\n",
    "end_time = '2020-06-22T23:45:00'\n",
    "output = 'csv'\n",
    "\n",
    "for coordinate in coordinates:\n",
    "    target_url = (f'{base_url}date_from={start_time}&date_to={end_time}&format={output}&coordinates={coordinate}')\n",
    "    df = pd.read_csv(target_url)\n",
    "    df.to_csv(f\"{coordinate}_data.csv\")"
   ]
  },
  {
   "cell_type": "code",
   "execution_count": 7,
   "metadata": {},
   "outputs": [
    {
     "data": {
      "text/plain": [
       "'June_22_Data/Patna_jun22_data.csv'"
      ]
     },
     "execution_count": 7,
     "metadata": {},
     "output_type": "execute_result"
    }
   ],
   "source": [
    "shutil.move('28.47,77.10_data.csv','June_22_Data/Delhi_jun22_data.csv')\n",
    "shutil.move('19.10,72.83_data.csv','June_22_Data/Mumbai_jun22_data.csv')\n",
    "shutil.move('13.00,80.23_data.csv','June_22_Data/Chennai_jun22_data.csv')\n",
    "shutil.move('25.59,85.22_data.csv','June_22_Data/Patna_jun22_data.csv')"
   ]
  },
  {
   "cell_type": "code",
   "execution_count": null,
   "metadata": {},
   "outputs": [],
   "source": []
  }
 ],
 "metadata": {
  "kernelspec": {
   "display_name": "Python [conda env:root] *",
   "language": "python",
   "name": "conda-root-py"
  },
  "language_info": {
   "codemirror_mode": {
    "name": "ipython",
    "version": 3
   },
   "file_extension": ".py",
   "mimetype": "text/x-python",
   "name": "python",
   "nbconvert_exporter": "python",
   "pygments_lexer": "ipython3",
   "version": "3.7.6"
  }
 },
 "nbformat": 4,
 "nbformat_minor": 4
}
