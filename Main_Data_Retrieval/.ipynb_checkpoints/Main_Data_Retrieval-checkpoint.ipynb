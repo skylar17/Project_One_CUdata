{
 "cells": [
  {
   "cell_type": "code",
   "execution_count": 1,
   "metadata": {},
   "outputs": [],
   "source": [
    "#Dependencies\n",
    "import pandas as pd\n",
    "import os\n",
    "import csv\n"
   ]
  },
  {
   "cell_type": "code",
   "execution_count": 2,
   "metadata": {},
   "outputs": [],
   "source": [
    "base_url = 'https://api.openaq.org/v1/measurements?'"
   ]
  },
  {
   "cell_type": "code",
   "execution_count": 3,
   "metadata": {},
   "outputs": [],
   "source": [
    "#South\n",
    "# Chennai location center: Velachery Res. Area, Chennai - CPCB\n",
    "# Chennai coordinates: 13.00,80.23\n",
    "\n",
    "#North\n",
    "# Delhi location center: Sirifort, Delhi - CPCB\n",
    "# Delhi coordinates: 28.55,77.21\n",
    "    # Original delhi location center and coordinates were: Aya Nagar, Delhi - IMD and coordinates: 28.47,77.10, respectively\n",
    "    # reason for changing delhi location center is due to lack of consistent SO2 pollutant information\n",
    "#East\n",
    "# Kolkata location center: Bidhannagar, Kolkata - WBPCB\n",
    "# Kolkata coordinates: 22.58,88.41\n",
    "\n",
    "#West\n",
    "# Mumbai location center: Chhatrapati Shivaji Intl. Airport (T2), Mumbai - MPCB\n",
    "# Mumbai coordinates: 19.10,72.83\n",
    "# removing PM25 from consideration\n",
    "\n",
    "#Read the data file\n",
    "coordinates = [\"13.00,80.23\",\"28.55,77.21\",\"22.58,88.41\",\"19.10,72.83\"]\n",
    "start_time = \"2020-06-22\"\n",
    "end_time = \"2020-06-22T23:45:00\"\n",
    "output = \"csv\"\n",
    "\n",
    "for coordinate in coordinates:\n",
    "    target_url = (f'{base_url}date_from={start_time}&date_to={end_time}&format={output}&coordinates={coordinate}')\n",
    "    df = pd.read_csv(target_url)\n",
    "    df.to_csv(f\"{coordinate}_data.csv\")"
   ]
  },
  {
   "cell_type": "markdown",
   "metadata": {},
   "source": [
    "Read each individual city CSV "
   ]
  },
  {
   "cell_type": "markdown",
   "metadata": {},
   "source": [
    "- ran the below cell for one time."
   ]
  },
  {
   "cell_type": "code",
   "execution_count": 4,
   "metadata": {},
   "outputs": [],
   "source": [
    "# os.rename('13.00,80.23_data.csv','Chennai_data.csv')\n",
    "# os.rename('28.55,77.21_data.csv','Delhi_data.csv')\n",
    "# os.rename('22.58,88.41_data.csv','Kolkata_data.csv')\n",
    "# os.rename('19.10,72.83_data.csv','Mumbai_data.csv')"
   ]
  },
  {
   "cell_type": "code",
   "execution_count": null,
   "metadata": {},
   "outputs": [],
   "source": []
  }
 ],
 "metadata": {
  "kernelspec": {
   "display_name": "Python 3",
   "language": "python",
   "name": "python3"
  },
  "language_info": {
   "codemirror_mode": {
    "name": "ipython",
    "version": 3
   },
   "file_extension": ".py",
   "mimetype": "text/x-python",
   "name": "python",
   "nbconvert_exporter": "python",
   "pygments_lexer": "ipython3",
   "version": "3.7.6"
  }
 },
 "nbformat": 4,
 "nbformat_minor": 4
}
