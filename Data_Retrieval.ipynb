{
 "cells": [
  {
   "cell_type": "code",
   "execution_count": 7,
   "metadata": {},
   "outputs": [],
   "source": [
    "#Dependencies\n",
    "import pandas as pd\n",
    "import requests\n",
    "import json\n",
    "import os\n",
    "import csv"
   ]
  },
  {
   "cell_type": "code",
   "execution_count": 8,
   "metadata": {},
   "outputs": [
    {
     "data": {
      "text/plain": [
       "'https://api.openaq.org/v1/measurements?date_from=2020-04-01&date_to=2020-06-23&format=csv'"
      ]
     },
     "execution_count": 8,
     "metadata": {},
     "output_type": "execute_result"
    }
   ],
   "source": [
    "base_url = \"https://api.openaq.org/v1/measurements?date_from=2020-04-01&date_to=2020-06-23&format=csv\"\n",
    "\n",
    "base_url"
   ]
  },
  {
   "cell_type": "code",
   "execution_count": 9,
   "metadata": {},
   "outputs": [],
   "source": [
    "# Delhi location center: Aya Nagar, Delhi - IMD\n",
    "# Delhi coordinates: 28.47,77.10\n",
    "# Mumbai location center: Chhatrapati Shivaji Intl. Airport (T2), Mumbai - MPCB\n",
    "# Mumbai coordinates: 19.10,72.83\n",
    "# Chennai location center: Velachery Res. Area, Chennai - CPCB\n",
    "# Chennai coordinates: 13.00,80.23\n",
    "# Patna location center: Govt. High School Shikarpur, Patna - BSPCB\n",
    "# Patna coordinates: 25.59,85.22\n",
    "coordinates = [\"28.47,77.10\", \"19.10,72.83\", \"13.00,80.23\", \"25.59,85.22\"]\n",
    "for coordinate in coordinates:\n",
    "    target_url = (f\"{base_url}&coordinates={coordinate}\")\n",
    "    df = pd.read_csv(target_url)\n",
    "    df.to_csv(f'{coordinate}_data.csv')"
   ]
  },
  {
   "cell_type": "code",
   "execution_count": 10,
   "metadata": {},
   "outputs": [
    {
     "data": {
      "text/plain": [
       "'https://api.openaq.org/v1/measurements?date_from=2020-04-01&date_to=2020-06-23&format=csv&coordinates=25.59,85.22'"
      ]
     },
     "execution_count": 10,
     "metadata": {},
     "output_type": "execute_result"
    }
   ],
   "source": [
    "target_url"
   ]
  },
  {
   "cell_type": "code",
   "execution_count": 12,
   "metadata": {},
   "outputs": [
    {
     "ename": "FileNotFoundError",
     "evalue": "[WinError 2] The system cannot find the file specified: '28.47,77.10_data.csv' -> 'Delhi_data.csv'",
     "output_type": "error",
     "traceback": [
      "\u001b[1;31m---------------------------------------------------------------------------\u001b[0m",
      "\u001b[1;31mFileNotFoundError\u001b[0m                         Traceback (most recent call last)",
      "\u001b[1;32m<ipython-input-12-0c6765a576c8>\u001b[0m in \u001b[0;36m<module>\u001b[1;34m\u001b[0m\n\u001b[1;32m----> 1\u001b[1;33m \u001b[0mos\u001b[0m\u001b[1;33m.\u001b[0m\u001b[0mrename\u001b[0m\u001b[1;33m(\u001b[0m\u001b[1;34m\"28.47,77.10_data.csv\"\u001b[0m\u001b[1;33m,\u001b[0m \u001b[1;34m\"Delhi_data.csv\"\u001b[0m\u001b[1;33m)\u001b[0m\u001b[1;33m\u001b[0m\u001b[1;33m\u001b[0m\u001b[0m\n\u001b[0m\u001b[0;32m      2\u001b[0m \u001b[0mos\u001b[0m\u001b[1;33m.\u001b[0m\u001b[0mrename\u001b[0m\u001b[1;33m(\u001b[0m\u001b[1;34m\"19.10,72.83_data.csv\"\u001b[0m\u001b[1;33m,\u001b[0m \u001b[1;34m\"Mumbai_data.csv\"\u001b[0m\u001b[1;33m)\u001b[0m\u001b[1;33m\u001b[0m\u001b[1;33m\u001b[0m\u001b[0m\n\u001b[0;32m      3\u001b[0m \u001b[0mos\u001b[0m\u001b[1;33m.\u001b[0m\u001b[0mrename\u001b[0m\u001b[1;33m(\u001b[0m\u001b[1;34m\"13.00,80.23_data.csv\"\u001b[0m\u001b[1;33m,\u001b[0m \u001b[1;34m\"Chennai_data.csv\"\u001b[0m\u001b[1;33m)\u001b[0m\u001b[1;33m\u001b[0m\u001b[1;33m\u001b[0m\u001b[0m\n\u001b[0;32m      4\u001b[0m \u001b[0mos\u001b[0m\u001b[1;33m.\u001b[0m\u001b[0mrename\u001b[0m\u001b[1;33m(\u001b[0m\u001b[1;34m\"25.59,85.22_data.csv\"\u001b[0m\u001b[1;33m,\u001b[0m \u001b[1;34m\"Patna_data.csv\"\u001b[0m\u001b[1;33m)\u001b[0m\u001b[1;33m\u001b[0m\u001b[1;33m\u001b[0m\u001b[0m\n",
      "\u001b[1;31mFileNotFoundError\u001b[0m: [WinError 2] The system cannot find the file specified: '28.47,77.10_data.csv' -> 'Delhi_data.csv'"
     ]
    }
   ],
   "source": [
    "os.rename(\"28.47,77.10_data.csv\", \"Delhi_data.csv\")\n",
    "os.rename(\"19.10,72.83_data.csv\", \"Mumbai_data.csv\")\n",
    "os.rename(\"13.00,80.23_data.csv\", \"Chennai_data.csv\")\n",
    "os.rename(\"25.59,85.22_data.csv\", \"Patna_data.csv\")"
   ]
  },
  {
   "cell_type": "code",
   "execution_count": null,
   "metadata": {},
   "outputs": [],
   "source": []
  }
 ],
 "metadata": {
  "kernelspec": {
   "display_name": "Python [conda env:root] *",
   "language": "python",
   "name": "conda-root-py"
  },
  "language_info": {
   "codemirror_mode": {
    "name": "ipython",
    "version": 3
   },
   "file_extension": ".py",
   "mimetype": "text/x-python",
   "name": "python",
   "nbconvert_exporter": "python",
   "pygments_lexer": "ipython3",
   "version": "3.7.6"
  }
 },
 "nbformat": 4,
 "nbformat_minor": 4
}
